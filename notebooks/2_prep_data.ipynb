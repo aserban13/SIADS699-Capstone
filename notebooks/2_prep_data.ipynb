{
 "cells": [
  {
   "cell_type": "markdown",
   "metadata": {},
   "source": [
    "## Prepare the dataset \n",
    "\n",
    "Prepare the dataset so that it can be used to label the data.\n",
    "\n",
    "- Posts only posted in 2024 through 2025 \n",
    "- Combine the title and text \n",
    "- Remove spaces in combine_text\n",
    "- Add in identifier column\n"
   ]
  },
  {
   "cell_type": "code",
   "execution_count": 1,
   "metadata": {},
   "outputs": [],
   "source": [
    "%%capture\n",
    "pip install -r ../requirements.txt"
   ]
  },
  {
   "cell_type": "code",
   "execution_count": 2,
   "metadata": {},
   "outputs": [],
   "source": [
    "# Install the required packages\n",
    "import pandas as pd\n",
    "from datetime import datetime \n",
    "\n",
    "# NLP\n",
    "from sentence_transformers import SentenceTransformer\n",
    "from sklearn.metrics.pairwise import cosine_similarity\n",
    "\n",
    "# Need this set to None otherwise text columns will truncate!\n",
    "pd.set_option('display.max_colwidth', None) "
   ]
  },
  {
   "cell_type": "code",
   "execution_count": 3,
   "metadata": {},
   "outputs": [],
   "source": [
    "import sys\n",
    "\n",
    "sys.path.append(\"../scripts/\")"
   ]
  },
  {
   "cell_type": "code",
   "execution_count": 4,
   "metadata": {},
   "outputs": [
    {
     "name": "stdout",
     "output_type": "stream",
     "text": [
      "Successfully loaded 'reddit_data.csv' into a DataFrame!\n"
     ]
    }
   ],
   "source": [
    "from access_data import authenticate_google_drive, grab_google_drive_folder_data, save_google_drive_data\n",
    "\n",
    "drive = authenticate_google_drive('credentials/google_drive_client_secret.json')\n",
    "df = grab_google_drive_folder_data(drive=drive,credential_file=\"credentials/google_drive_folder_id.json\",filename=\"reddit_data.csv\")"
   ]
  },
  {
   "cell_type": "code",
   "execution_count": 5,
   "metadata": {},
   "outputs": [],
   "source": [
    "# Convert the 'timestamp' column from object (string) to datetime\n",
    "df['created_at'] = pd.to_datetime(df['created_at'], errors='coerce')\n",
    "\n",
    "# Filter data between 2023 and 2025\n",
    "filtered_df = df[(df['created_at'].dt.year >= 2020) & (df['created_at'].dt.year <= 2025)]\n"
   ]
  },
  {
   "cell_type": "code",
   "execution_count": 6,
   "metadata": {},
   "outputs": [
    {
     "data": {
      "text/plain": [
       "submission_id             0\n",
       "subreddit_topic           0\n",
       "search_query              0\n",
       "title                     0\n",
       "text                    323\n",
       "url                       0\n",
       "score                     0\n",
       "num_comments              0\n",
       "username                  0\n",
       "created_at                0\n",
       "data_pull_date            0\n",
       "days_since_post_date      0\n",
       "dtype: int64"
      ]
     },
     "execution_count": 6,
     "metadata": {},
     "output_type": "execute_result"
    }
   ],
   "source": [
    "filtered_df.isna().sum()"
   ]
  },
  {
   "cell_type": "code",
   "execution_count": 7,
   "metadata": {},
   "outputs": [],
   "source": [
    "# replace NA to ''\n",
    "filtered_df['text'] = filtered_df['text'].replace(pd.NA,\"\")\n"
   ]
  },
  {
   "cell_type": "code",
   "execution_count": 8,
   "metadata": {},
   "outputs": [
    {
     "data": {
      "text/plain": [
       "submission_id           0\n",
       "subreddit_topic         0\n",
       "search_query            0\n",
       "title                   0\n",
       "text                    0\n",
       "url                     0\n",
       "score                   0\n",
       "num_comments            0\n",
       "username                0\n",
       "created_at              0\n",
       "data_pull_date          0\n",
       "days_since_post_date    0\n",
       "dtype: int64"
      ]
     },
     "execution_count": 8,
     "metadata": {},
     "output_type": "execute_result"
    }
   ],
   "source": [
    "filtered_df.isna().sum()"
   ]
  },
  {
   "cell_type": "code",
   "execution_count": 9,
   "metadata": {},
   "outputs": [],
   "source": [
    "## Combine text and remove spacing \n",
    "filtered_df['combine_text'] = filtered_df['title']+\". \"+ filtered_df['text']\n",
    "filtered_df['combine_text'] = filtered_df['combine_text'].str.strip().str.replace(r'\\s+', ' ', regex=True)\n"
   ]
  },
  {
   "cell_type": "code",
   "execution_count": 10,
   "metadata": {},
   "outputs": [],
   "source": [
    "# We only want to analyze text data not photos\n",
    "def flag_picture_posts(url): \n",
    "    if url.endswith(('.jpg', \".jpeg\", \".png\",'.gif', '.gifv', '.webp')):\n",
    "        return True\n",
    "    return False\n",
    "\n",
    "filtered_df['flag_picture_posts']  = filtered_df['url'].apply(lambda x: flag_picture_posts(x))"
   ]
  },
  {
   "cell_type": "code",
   "execution_count": 11,
   "metadata": {},
   "outputs": [
    {
     "data": {
      "text/plain": [
       "False    4161\n",
       "True      348\n",
       "Name: flag_picture_posts, dtype: int64"
      ]
     },
     "execution_count": 11,
     "metadata": {},
     "output_type": "execute_result"
    }
   ],
   "source": [
    "# How many are images\n",
    "filtered_df[\"flag_picture_posts\"].value_counts()\n"
   ]
  },
  {
   "cell_type": "code",
   "execution_count": 12,
   "metadata": {},
   "outputs": [],
   "source": [
    "filtered_df = filtered_df[filtered_df[\"flag_picture_posts\"] == False].reset_index(drop=True) \n"
   ]
  },
  {
   "cell_type": "code",
   "execution_count": 13,
   "metadata": {},
   "outputs": [
    {
     "name": "stdout",
     "output_type": "stream",
     "text": [
      "Number of unique submission ids:  4068\n",
      "Number of total submission ids:  4161\n"
     ]
    }
   ],
   "source": [
    "# Some duplicate posts since the same post may mention two brands \n",
    "print('Number of unique submission ids: ', filtered_df['submission_id'].nunique())\n",
    "print('Number of total submission ids: ', filtered_df['submission_id'].count())\n",
    "\n",
    "# Mini investigation that shows the posts have two different brands \n",
    "# submission_id_dup = filtered_df['submission_id'].value_counts().head()\n",
    "# submission_id_example = submission_id_dup.index[0]\n",
    "# filtered_df[filtered_df['submission_id'] == submission_id_example].head()"
   ]
  },
  {
   "cell_type": "code",
   "execution_count": 14,
   "metadata": {},
   "outputs": [
    {
     "name": "stdout",
     "output_type": "stream",
     "text": [
      "File 'reddit_filtered_data.csv' uploaded successfully to folder 1Ktcv4eaR7kH0teyGuLph4LSYWxI1qkIS!\n"
     ]
    }
   ],
   "source": [
    "# Save the data in the Google Drive location\n",
    "save_google_drive_data(drive=drive, \n",
    "                       dataframe =filtered_df, \n",
    "                       filename=\"reddit_filtered_data.csv\")"
   ]
  },
  {
   "cell_type": "code",
   "execution_count": null,
   "metadata": {},
   "outputs": [],
   "source": []
  }
 ],
 "metadata": {
  "kernelspec": {
   "display_name": "base",
   "language": "python",
   "name": "python3"
  },
  "language_info": {
   "codemirror_mode": {
    "name": "ipython",
    "version": 3
   },
   "file_extension": ".py",
   "mimetype": "text/x-python",
   "name": "python",
   "nbconvert_exporter": "python",
   "pygments_lexer": "ipython3",
   "version": "3.11.5"
  }
 },
 "nbformat": 4,
 "nbformat_minor": 2
}
