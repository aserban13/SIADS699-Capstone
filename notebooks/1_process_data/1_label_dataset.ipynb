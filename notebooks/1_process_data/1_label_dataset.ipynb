{
 "cells": [
  {
   "cell_type": "markdown",
   "metadata": {},
   "source": [
    "## Label Dataset "
   ]
  },
  {
   "cell_type": "code",
   "execution_count": 2,
   "metadata": {},
   "outputs": [],
   "source": [
    "%%capture\n",
    "pip install -r ../../requirements.txt"
   ]
  },
  {
   "cell_type": "code",
   "execution_count": 3,
   "metadata": {},
   "outputs": [],
   "source": [
    "import sys\n",
    "\n",
    "# set this on the path so that we can reference the commong data locations\n",
    "sys.path.append(\"../../scripts/\")"
   ]
  },
  {
   "cell_type": "code",
   "execution_count": 4,
   "metadata": {},
   "outputs": [
    {
     "name": "stdout",
     "output_type": "stream",
     "text": [
      "Successfully loaded 'reddit_filtered_data.csv' into a DataFrame!\n"
     ]
    }
   ],
   "source": [
    "from data_collection import authenticate_google_drive, grab_google_drive_folder_data\n",
    "\n",
    "drive = authenticate_google_drive('../0_data_collection/credentials/google_drive_client_secret.json')\n",
    "df = grab_google_drive_folder_data(drive=drive,credential_file=\"../0_data_collection/credentials/google_drive_folder_id.json\",filename=\"reddit_filtered_data.csv\")"
   ]
  },
  {
   "cell_type": "code",
   "execution_count": 5,
   "metadata": {},
   "outputs": [],
   "source": [
    "import ipywidgets as widgets\n",
    "import pandas as pd\n",
    "from IPython.display import display, clear_output\n",
    "\n",
    "class show_visual(): \n",
    "    def __init__(self, df, file_number=1, reviewer=\"aserban\"):\n",
    "        self.df = df\n",
    "        self.labels = {}  # Store labeled data\n",
    "        self.batch_size = 5\n",
    "        self.current_index = 0  # Track progress\n",
    "        self.label_options = [ 'Unknown', 'Positive', 'Negative', 'Neutral']\n",
    "        self.label_widgets = []\n",
    "\n",
    "        self.next_button = widgets.Button(description=\"Next Batch\", button_style='success', layout=widgets.Layout(width='200px', height='50px'))\n",
    "        self.save_button = widgets.Button(description=\"Save & Exit\", button_style='danger', layout=widgets.Layout(width='200px', height='50px'))\n",
    "        self.reviewer = reviewer\n",
    "        self.file_name = f\"labeled_data/{reviewer}_labeled_data_{file_number}.csv\"\n",
    "\n",
    "        self.selected_columns = ['submission_id', 'subredit_topic', 'search_query', 'combine_text', 'url', 'label', 'reviewer']\n",
    "        \n",
    "    # Function to display the current batch\n",
    "    def show_batch(self):\n",
    "        clear_output(wait=True)\n",
    "        if self.current_index >= len(self.df):\n",
    "            print(\"✅ All samples labeled!\")\n",
    "            return\n",
    "        \n",
    "        batch_end = min(self.current_index + self.batch_size, len(self.df))\n",
    "        current_batch = self.df.iloc[self.current_index:batch_end]\n",
    "        \n",
    "        self.label_widgets.clear()        \n",
    "        for i, row in current_batch.iterrows():\n",
    "            dropdown = widgets.Dropdown(\n",
    "                options=self.label_options,\n",
    "                description=f\"{row['url']}\",\n",
    "                style={'description_width': 'initial'},\n",
    "                layout=widgets.Layout(width='500px')\n",
    "            )\n",
    "            self.label_widgets.append((i, dropdown))\n",
    "            print(f\"Post Number Index: {i}\")\n",
    "\n",
    "            display(widgets.VBox([\n",
    "                widgets.HTML(f\"Brand:<b><font color='red'>{row['search_query']}</b>\"),\n",
    "                widgets.Label(f\"{row['combine_text']}\", layout=widgets.Layout(width='1000px', word_wrap='break-word')),\n",
    "                dropdown\n",
    "            ]))\n",
    "        \n",
    "        display(widgets.HBox([self.next_button, self.save_button]))\n",
    "\n",
    "    # Function to determine whether to save labels and proceed\n",
    "    def save_labels(self,continue_labeling=True):\n",
    "        for index, dropdown in self.label_widgets:\n",
    "            self.labels[index] = dropdown.value\n",
    "        \n",
    "        self.current_index += self.batch_size\n",
    "        if continue_labeling:\n",
    "            self.show_batch()\n",
    "        else:\n",
    "            self.save_data()\n",
    "\n",
    "    # Function to save labeled data locally\n",
    "    def save_data(self):\n",
    "        labeled_df = self.df.copy()\n",
    "        labeled_df['label'] = labeled_df.index.map(self.labels)\n",
    "        labeled_df['reviewer'] = self.reviewer\n",
    "\n",
    "        selected_df = labeled_df[~labeled_df['label'].isna()].reset_index(drop=True)\n",
    "        # selected columns \n",
    "        selected_df = selected_df[self.selected_columns]\n",
    "\n",
    "        selected_df.to_csv(self.file_name, index=False)\n",
    "        print(f\"📂 Data saved as '{self.file_name}'\")\n",
    "\n",
    "\n",
    "    def start_manually_labelling(self): \n",
    "        \n",
    "        # Bind buttons\n",
    "        self.next_button.on_click(lambda _: self.save_labels(True))\n",
    "        self.save_button.on_click(lambda _: self.save_labels(False))\n",
    "\n",
    "        # Start labeling\n",
    "        self.show_batch()"
   ]
  },
  {
   "cell_type": "code",
   "execution_count": 6,
   "metadata": {},
   "outputs": [],
   "source": [
    "# sv = show_visual(df=df, file_number=1, reviewer=\"aserban\")\n",
    "# sv.start_manually_labelling()"
   ]
  },
  {
   "cell_type": "code",
   "execution_count": 10,
   "metadata": {},
   "outputs": [],
   "source": [
    "# sv = show_visual(df=df.sample(20, random_state=42), file_number=2, reviewer=\"aserban\")\n",
    "# sv.start_manually_labelling()"
   ]
  },
  {
   "cell_type": "code",
   "execution_count": 11,
   "metadata": {},
   "outputs": [],
   "source": [
    "# file_path_check = \"labeled_data/aserban_labeled_data_2.csv\"\n",
    "# check_df = pd.read_csv(file_path_check)"
   ]
  },
  {
   "cell_type": "code",
   "execution_count": 13,
   "metadata": {},
   "outputs": [],
   "source": [
    "# check_df.shape"
   ]
  },
  {
   "cell_type": "code",
   "execution_count": null,
   "metadata": {},
   "outputs": [],
   "source": []
  }
 ],
 "metadata": {
  "kernelspec": {
   "display_name": "base",
   "language": "python",
   "name": "python3"
  },
  "language_info": {
   "codemirror_mode": {
    "name": "ipython",
    "version": 3
   },
   "file_extension": ".py",
   "mimetype": "text/x-python",
   "name": "python",
   "nbconvert_exporter": "python",
   "pygments_lexer": "ipython3",
   "version": "3.11.5"
  }
 },
 "nbformat": 4,
 "nbformat_minor": 2
}
