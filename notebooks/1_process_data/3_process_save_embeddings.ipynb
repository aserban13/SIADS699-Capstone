{
 "cells": [
  {
   "cell_type": "code",
   "execution_count": 6,
   "metadata": {},
   "outputs": [
    {
     "name": "stderr",
     "output_type": "stream",
     "text": [
      "huggingface/tokenizers: The current process just got forked, after parallelism has already been used. Disabling parallelism to avoid deadlocks...\n",
      "To disable this warning, you can either:\n",
      "\t- Avoid using `tokenizers` before the fork if possible\n",
      "\t- Explicitly set the environment variable TOKENIZERS_PARALLELISM=(true | false)\n"
     ]
    }
   ],
   "source": [
    "%%capture\n",
    "pip install -r ../../requirements.txt"
   ]
  },
  {
   "cell_type": "code",
   "execution_count": 7,
   "metadata": {},
   "outputs": [],
   "source": [
    "# Install the required packages\n",
    "import sys \n",
    "import requests #needed to perform HTTP GET and POST requests\n",
    "import numpy as np\n",
    "import pandas as pd\n",
    "\n",
    "# NLP\n",
    "from sentence_transformers import SentenceTransformer\n",
    "from sklearn.metrics.pairwise import cosine_similarity\n",
    "\n",
    "# Need this set to None otherwise text columns will truncate!\n",
    "pd.set_option('display.max_colwidth', None) "
   ]
  },
  {
   "cell_type": "code",
   "execution_count": 8,
   "metadata": {},
   "outputs": [],
   "source": [
    "# set this on the path so that we can reference the commong data locations\n",
    "sys.path.append(\"../../scripts/\")\n",
    "from process_text_data import text_embeddings, compute_similarity_scores"
   ]
  },
  {
   "cell_type": "code",
   "execution_count": 9,
   "metadata": {},
   "outputs": [],
   "source": [
    "text_data = pd.read_csv('../../data/posts.csv')"
   ]
  },
  {
   "cell_type": "code",
   "execution_count": 10,
   "metadata": {},
   "outputs": [
    {
     "name": "stdout",
     "output_type": "stream",
     "text": [
      "Started with model multi-qa-mpnet-base-dot-v1\n",
      "Done with model: multi-qa-mpnet-base-dot-v1\n",
      "Started with model BAAI/bge-m3\n",
      "Done with model: BAAI/bge-m3\n"
     ]
    }
   ],
   "source": [
    "def create_embedding_dataframes(post_dataset, model_list, col_to_encode='text'):\n",
    "\n",
    "    dataset = post_dataset.copy().reset_index()\n",
    "    \n",
    "    # Specify which text columns should be encoded.\n",
    "    text_to_encode = post_dataset[col_to_encode].fillna(\"\").astype(str)\n",
    "    \n",
    "    dfs = []\n",
    "\n",
    "    # Iterate over models\n",
    "    for model in model_list:\n",
    "    \n",
    "        print('Started with model ' + model)\n",
    "    \n",
    "        # Load in the model\n",
    "        load_model = SentenceTransformer(model, device=\"cpu\") \n",
    "\n",
    "        # text_to_encode = post_dataset[col_to_encode].fillna(post_dataset[col_to_encode])\n",
    "    \n",
    "        # Embed th posts\n",
    "        post_embedding = load_model.encode(text_to_encode.values)\n",
    "    \n",
    "        # Store embeddings with that data's info\n",
    "        data_with_embdedding = pd.concat([dataset, pd.DataFrame(post_embedding)], axis = 1)\n",
    "    \n",
    "        # Save embeddings as list of dfs\n",
    "        dfs.append(data_with_embdedding)   \n",
    "\n",
    "        print('Done with model: ' + model)\n",
    "\n",
    "    return dfs\n",
    "\n",
    " \n",
    "# Models to try. Based off hugging face leaderboard (https://huggingface.co/spaces/mteb/leaderboard) and our impact analysis\n",
    "model_names = [\"multi-qa-mpnet-base-dot-v1\", \"BAAI/bge-m3\"]\n",
    "data = text_data.copy()\n",
    "\n",
    "embedded_dfs = create_embedding_dataframes(text_data.sample(10, random_state = 0), model_names)"
   ]
  },
  {
   "cell_type": "code",
   "execution_count": 11,
   "metadata": {},
   "outputs": [
    {
     "data": {
      "text/html": [
       "<div>\n",
       "<style scoped>\n",
       "    .dataframe tbody tr th:only-of-type {\n",
       "        vertical-align: middle;\n",
       "    }\n",
       "\n",
       "    .dataframe tbody tr th {\n",
       "        vertical-align: top;\n",
       "    }\n",
       "\n",
       "    .dataframe thead th {\n",
       "        text-align: right;\n",
       "    }\n",
       "</style>\n",
       "<table border=\"1\" class=\"dataframe\">\n",
       "  <thead>\n",
       "    <tr style=\"text-align: right;\">\n",
       "      <th></th>\n",
       "      <th>index</th>\n",
       "      <th>submission_id</th>\n",
       "      <th>subredit_topic</th>\n",
       "      <th>search_query</th>\n",
       "      <th>title</th>\n",
       "      <th>text</th>\n",
       "      <th>score</th>\n",
       "      <th>num_comments</th>\n",
       "      <th>username</th>\n",
       "      <th>created_at</th>\n",
       "      <th>...</th>\n",
       "      <th>758</th>\n",
       "      <th>759</th>\n",
       "      <th>760</th>\n",
       "      <th>761</th>\n",
       "      <th>762</th>\n",
       "      <th>763</th>\n",
       "      <th>764</th>\n",
       "      <th>765</th>\n",
       "      <th>766</th>\n",
       "      <th>767</th>\n",
       "    </tr>\n",
       "  </thead>\n",
       "  <tbody>\n",
       "    <tr>\n",
       "      <th>8</th>\n",
       "      <td>4487</td>\n",
       "      <td>1dspvjg</td>\n",
       "      <td>personalfinance</td>\n",
       "      <td>Wells Fargo</td>\n",
       "      <td>Wells Fargo Super checks question</td>\n",
       "      <td>Am I understanding this correctly, I can just write a check to myself (even up to the enitre credit limit) and use it to pay whatever. And it counts as a balance transfer? So 3% loan? This seems too good to be true, I must be missing something?</td>\n",
       "      <td>3</td>\n",
       "      <td>5</td>\n",
       "      <td>ParticularClean9568</td>\n",
       "      <td>2024-07-01 10:40:56</td>\n",
       "      <td>...</td>\n",
       "      <td>0.081928</td>\n",
       "      <td>0.249572</td>\n",
       "      <td>-0.068738</td>\n",
       "      <td>-0.133499</td>\n",
       "      <td>-0.320599</td>\n",
       "      <td>0.506896</td>\n",
       "      <td>-0.020875</td>\n",
       "      <td>-0.015559</td>\n",
       "      <td>-0.086569</td>\n",
       "      <td>0.012423</td>\n",
       "    </tr>\n",
       "  </tbody>\n",
       "</table>\n",
       "<p>1 rows × 778 columns</p>\n",
       "</div>"
      ],
      "text/plain": [
       "   index submission_id   subredit_topic search_query  \\\n",
       "8   4487       1dspvjg  personalfinance  Wells Fargo   \n",
       "\n",
       "                               title  \\\n",
       "8  Wells Fargo Super checks question   \n",
       "\n",
       "                                                                                                                                                                                                                                                   text  \\\n",
       "8  Am I understanding this correctly, I can just write a check to myself (even up to the enitre credit limit) and use it to pay whatever. And it counts as a balance transfer? So 3% loan? This seems too good to be true, I must be missing something?   \n",
       "\n",
       "   score  num_comments             username           created_at  ...  \\\n",
       "8      3             5  ParticularClean9568  2024-07-01 10:40:56  ...   \n",
       "\n",
       "        758       759       760       761       762       763       764  \\\n",
       "8  0.081928  0.249572 -0.068738 -0.133499 -0.320599  0.506896 -0.020875   \n",
       "\n",
       "        765       766       767  \n",
       "8 -0.015559 -0.086569  0.012423  \n",
       "\n",
       "[1 rows x 778 columns]"
      ]
     },
     "execution_count": 11,
     "metadata": {},
     "output_type": "execute_result"
    }
   ],
   "source": [
    "embedded_dfs[0].sample()"
   ]
  },
  {
   "cell_type": "code",
   "execution_count": 10,
   "metadata": {},
   "outputs": [
    {
     "name": "stdout",
     "output_type": "stream",
     "text": [
      "File 'data_encoded_multi-qa-mpnet-base-dot-v1' uploaded successfully to folder 1kJ6TrI9MVT5mfnnYvS-OpRMJFVbIQ6Tl!\n",
      "File 'data_encoded_BAAI/bge-m3' uploaded successfully to folder 1kJ6TrI9MVT5mfnnYvS-OpRMJFVbIQ6Tl!\n"
     ]
    }
   ],
   "source": [
    "# Save each model's embeddings to drive here.\n",
    "# This will overwrite data in drive - be sure before running. \n",
    "\n",
    "# # Grab the Google Drive object\n",
    "# drive = authenticate_google_drive('../0_data_collection/credentials/google_drive_client_secret.json')\n",
    "# model_file_names = [\"multi-qa-mpnet-base-dot-v1\", \"BAAI/bge-m3\"]\n",
    "\n",
    "# for i, k in zip(model_file_names, embedded_dfs):\n",
    "    \n",
    "#     dataset_name = 'data_encoded_'+i\n",
    "\n",
    "#     # # Save the data in the Google Drive location\n",
    "#     save_google_drive_data(drive=drive, \n",
    "#                            credential_file=\"../0_data_collection/credentials/google_drive_folder_id.json\",  \n",
    "#                            dataframe = k, \n",
    "#                            filename=dataset_name)\n",
    "\n",
    "#     path = '../../data/'+dataset_name+'.csv'\n"
   ]
  },
  {
   "cell_type": "code",
   "execution_count": null,
   "metadata": {},
   "outputs": [],
   "source": []
  }
 ],
 "metadata": {
  "kernelspec": {
   "display_name": "Python 3 (ipykernel)",
   "language": "python",
   "name": "python3"
  },
  "language_info": {
   "codemirror_mode": {
    "name": "ipython",
    "version": 3
   },
   "file_extension": ".py",
   "mimetype": "text/x-python",
   "name": "python",
   "nbconvert_exporter": "python",
   "pygments_lexer": "ipython3",
   "version": "3.9.6"
  }
 },
 "nbformat": 4,
 "nbformat_minor": 4
}
