{
 "cells": [
  {
   "cell_type": "markdown",
   "metadata": {},
   "source": [
    "# Aggregate label data \n",
    "\n",
    "Groups together all the manually labelled data"
   ]
  },
  {
   "cell_type": "code",
   "execution_count": 10,
   "metadata": {},
   "outputs": [],
   "source": [
    "%%capture\n",
    "pip install -r ../../requirements.txt"
   ]
  },
  {
   "cell_type": "code",
   "execution_count": 51,
   "metadata": {},
   "outputs": [
    {
     "name": "stdout",
     "output_type": "stream",
     "text": [
      "{\n",
      "    \"color_palette\": {\n",
      "        \"primary\": \"#1E90FF\",\n",
      "        \"secondary\": \"#FF6347\",\n",
      "        \"accent\": \"#32CD32\",\n",
      "        \"background\": \"#F5F5F5\",\n",
      "        \"text\": \"#333333\",\n",
      "        \"warning\": \"#FFA500\",\n",
      "        \"success\": \"#28A745\",\n",
      "        \"error\": \"#DC3545\"\n",
      "    }\n",
      "}\n"
     ]
    }
   ],
   "source": [
    "import json \n",
    "\n",
    "theme_colors_path = \"../theme_colors.json\"\n",
    "with open(theme_colors_path, \"r\") as f:\n",
    "    color_palette = json.load(f)\n",
    "print(json.dumps(color_palette, indent=4))\n"
   ]
  },
  {
   "cell_type": "code",
   "execution_count": 23,
   "metadata": {},
   "outputs": [],
   "source": [
    "import pandas as pd \n",
    "import numpy as np \n",
    "import os \n"
   ]
  },
  {
   "cell_type": "code",
   "execution_count": 18,
   "metadata": {},
   "outputs": [
    {
     "data": {
      "text/plain": [
       "True"
      ]
     },
     "execution_count": 18,
     "metadata": {},
     "output_type": "execute_result"
    }
   ],
   "source": [
    "empty_df = pd.DataFrame() \n",
    "empty_df.empty"
   ]
  },
  {
   "cell_type": "code",
   "execution_count": 45,
   "metadata": {},
   "outputs": [
    {
     "name": "stdout",
     "output_type": "stream",
     "text": [
      "labeled_data/aserban_labeled_data_2.csv 20\n",
      "labeled_data/aserban_labeled_data_3.csv 5\n",
      "labeled_data/aserban_labeled_data_1.csv 20\n",
      "Final file size:  45\n",
      "labeled_data/combined_output.csv\n"
     ]
    }
   ],
   "source": [
    "# REPLACE: Go through the google drive folder and combine the csvs \n",
    "\n",
    "# Iterate through all the files in a folder location \n",
    "folder_path_location = 'labeled_data'\n",
    "final_df = pd.DataFrame()\n",
    "\n",
    "for file in os.listdir(folder_path_location):\n",
    "    file_path = os.path.join(folder_path_location, file)\n",
    "    if \"combined\" in file_path: \n",
    "        continue\n",
    "    file_df = pd.read_csv(file_path)\n",
    "    print(file_path, file_df.shape[0])\n",
    "    if final_df.empty : \n",
    "        final_df = file_df \n",
    "    else: \n",
    "        final_df  = pd.concat([final_df, file_df], ignore_index=True)\n",
    "\n",
    "print(\"Final file size: \",  final_df.shape[0])\n",
    "\n",
    "# Save the combined DataFrame to a new CSV file\n",
    "output_file = os.path.join(folder_path_location, 'combined_output.csv')\n",
    "final_df.to_csv(output_file)\n",
    "print(output_file)\n"
   ]
  },
  {
   "cell_type": "code",
   "execution_count": 43,
   "metadata": {},
   "outputs": [],
   "source": [
    "import sys\n",
    "sys.path.append(\"../../scripts/\")\n",
    "\n",
    "from data_collection import authenticate_google_drive, grab_google_drive_folder_data\n",
    "\n",
    "drive = authenticate_google_drive('../0_data_collection/credentials/google_drive_client_secret.json')"
   ]
  },
  {
   "cell_type": "code",
   "execution_count": 44,
   "metadata": {},
   "outputs": [
    {
     "name": "stdout",
     "output_type": "stream",
     "text": [
      "Successfully loaded 'labeled_data_3.29.csv' into a DataFrame!\n"
     ]
    },
    {
     "data": {
      "text/plain": [
       "Index(['submission_id_', 'subredit_topic_', 'search_query_', 'combine_text_',\n",
       "       'url_', 'label_count', 'label_min', 'label_max'],\n",
       "      dtype='object')"
      ]
     },
     "execution_count": 44,
     "metadata": {},
     "output_type": "execute_result"
    }
   ],
   "source": [
    "## Clean up\n",
    "file_path = \"labeled_data_3.29.csv\"\n",
    "combined_labeled_data  = grab_google_drive_folder_data(drive=drive,credential_file=\"../0_data_collection/credentials/google_drive_folder_id.json\",filename=file_path)\n",
    "combined_labeled_data.head()\n",
    "\n",
    "# Make sure there are no duplicates in labeling \n",
    "combined_labeled_data_grouped = pd.DataFrame(combined_labeled_data.groupby(['submission_id','subredit_topic','search_query', 'combine_text', 'url']).agg({'label': ['count', 'min', 'max']})).reset_index()\n",
    "combined_labeled_data_grouped.columns = ['_'.join(col) for col in combined_labeled_data_grouped.columns]\n",
    "combined_labeled_data_grouped.columns"
   ]
  },
  {
   "cell_type": "code",
   "execution_count": 45,
   "metadata": {},
   "outputs": [
    {
     "name": "stdout",
     "output_type": "stream",
     "text": [
      "Number of conflicting labels:   1\n"
     ]
    }
   ],
   "source": [
    "# Check if there are instances that the labels are not the same \n",
    "combined_labeled_data_grouped[combined_labeled_data_grouped['label_count'] > 1]\n",
    "combined_labeled_data_grouped['same_value'] = combined_labeled_data_grouped['label_min'] == combined_labeled_data_grouped['label_max']\n",
    "print(\"Number of conflicting labels:  \", combined_labeled_data_grouped[~combined_labeled_data_grouped['same_value']].shape[0])\n",
    "\n",
    "# Drop instances where the label was conflicting\n",
    "conflicting_submission_ids = list(combined_labeled_data_grouped[~combined_labeled_data_grouped['same_value']]['submission_id_'])\n",
    "combined_labeled_data = combined_labeled_data[~combined_labeled_data['submission_id'].isin(conflicting_submission_ids)].reset_index(drop=True)\n"
   ]
  },
  {
   "cell_type": "code",
   "execution_count": 47,
   "metadata": {},
   "outputs": [],
   "source": [
    "# Conflicting Label Investiagtionn Section \n",
    "# submission_id = \"1iq9vh3\"\n",
    "# combined_labeled_data[combined_labeled_data['submission_id'] == submission_id]['combine_text'][114]"
   ]
  },
  {
   "cell_type": "code",
   "execution_count": 58,
   "metadata": {},
   "outputs": [
    {
     "name": "stdout",
     "output_type": "stream",
     "text": [
      "Neutral     101\n",
      "Negative     26\n",
      "Positive      3\n",
      "Name: label, dtype: int64\n",
      "\n",
      "\n",
      "Neutral     0.776923\n",
      "Negative    0.200000\n",
      "Positive    0.023077\n",
      "Name: label, dtype: float64\n"
     ]
    }
   ],
   "source": [
    "# See the distribution of the labels \n",
    "print(combined_labeled_data['label'].value_counts() )\n",
    "print('\\n')\n",
    "print(combined_labeled_data['label'].value_counts(normalize=True))"
   ]
  },
  {
   "cell_type": "code",
   "execution_count": 59,
   "metadata": {},
   "outputs": [],
   "source": [
    "# Delete Later\n",
    "\n",
    "combined_labeled_data.to_csv(\"labeled_data/combined_output_new.csv\")\n"
   ]
  },
  {
   "cell_type": "code",
   "execution_count": null,
   "metadata": {},
   "outputs": [],
   "source": []
  }
 ],
 "metadata": {
  "kernelspec": {
   "display_name": "base",
   "language": "python",
   "name": "python3"
  },
  "language_info": {
   "codemirror_mode": {
    "name": "ipython",
    "version": 3
   },
   "file_extension": ".py",
   "mimetype": "text/x-python",
   "name": "python",
   "nbconvert_exporter": "python",
   "pygments_lexer": "ipython3",
   "version": "3.11.5"
  }
 },
 "nbformat": 4,
 "nbformat_minor": 2
}
