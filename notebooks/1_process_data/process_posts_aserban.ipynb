{
 "cells": [
  {
   "cell_type": "code",
   "execution_count": 1,
   "metadata": {},
   "outputs": [],
   "source": [
    "%%capture\n",
    "pip install -r ../../requirements.txt"
   ]
  },
  {
   "cell_type": "code",
   "execution_count": 2,
   "metadata": {},
   "outputs": [],
   "source": [
    "# Install the required packages\n",
    "import sys \n",
    "import json #needed to translate JSON data\n",
    "import requests #needed to perform HTTP GET and POST requests\n",
    "import pandas as pd\n",
    "import pprint # allows us to print more readable JSON data\n",
    "from datetime import datetime \n",
    "import time \n",
    "import io\n",
    "\n",
    "# NLP\n",
    "from sentence_transformers import SentenceTransformer\n",
    "from sklearn.metrics.pairwise import cosine_similarity\n",
    "\n",
    "# Need this set to None otherwise text columns will truncate!\n",
    "pd.set_option('display.max_colwidth', None) "
   ]
  },
  {
   "cell_type": "code",
   "execution_count": 3,
   "metadata": {},
   "outputs": [],
   "source": [
    "import sys\n",
    "\n",
    "# set this on the path so that we can reference the commong data locations\n",
    "sys.path.append(\"../../scripts/\")\n",
    "from process_text_data import text_embeddings, compute_similarity_scores"
   ]
  },
  {
   "cell_type": "code",
   "execution_count": 10,
   "metadata": {},
   "outputs": [
    {
     "name": "stdout",
     "output_type": "stream",
     "text": [
      "Successfully loaded 'reddit_data.csv' into a DataFrame!\n"
     ]
    }
   ],
   "source": [
    "from data_collection import authenticate_google_drive, grab_google_drive_folder_data\n",
    "\n",
    "drive = authenticate_google_drive('../0_data_collection/credentials/google_drive_client_secret.json')\n",
    "df = grab_google_drive_folder_data(drive=drive,credential_file=\"../0_data_collection/credentials/google_drive_folder_id.json\",filename=\"reddit_data.csv\")"
   ]
  },
  {
   "cell_type": "code",
   "execution_count": 11,
   "metadata": {},
   "outputs": [
    {
     "data": {
      "text/html": [
       "<div>\n",
       "<style scoped>\n",
       "    .dataframe tbody tr th:only-of-type {\n",
       "        vertical-align: middle;\n",
       "    }\n",
       "\n",
       "    .dataframe tbody tr th {\n",
       "        vertical-align: top;\n",
       "    }\n",
       "\n",
       "    .dataframe thead th {\n",
       "        text-align: right;\n",
       "    }\n",
       "</style>\n",
       "<table border=\"1\" class=\"dataframe\">\n",
       "  <thead>\n",
       "    <tr style=\"text-align: right;\">\n",
       "      <th></th>\n",
       "      <th>submission_id</th>\n",
       "      <th>subredit_topic</th>\n",
       "      <th>search_query</th>\n",
       "      <th>title</th>\n",
       "      <th>text</th>\n",
       "      <th>score</th>\n",
       "      <th>num_comments</th>\n",
       "      <th>username</th>\n",
       "      <th>created_at</th>\n",
       "    </tr>\n",
       "  </thead>\n",
       "  <tbody>\n",
       "    <tr>\n",
       "      <th>0</th>\n",
       "      <td>1hqgmvb</td>\n",
       "      <td>FirstTimeHomeBuyer</td>\n",
       "      <td>Rocket Mortgage</td>\n",
       "      <td>Avoid Rocket Mortgage</td>\n",
       "      <td>I have a RM mortgage and they call me once a year and ask where I am employed, what my salary is, if the house needs any repairs, and they run a soft credit check while I am on the phone with them and run through all my credit card debt. They also sell this information. According to the mortgage agreement you are required to cooperate with them. No other mortgage company does this.\\n\\nDuring the mortgage application process, they tried to charge me 3 points (!!).  I got a competitive quote from another mortgage lender at a much lower cost and RM matched the offer.  I wish I went with the other lender.  The only reason I went with RM at that point was because I was further along in the process and rates where trending higher.</td>\n",
       "      <td>602</td>\n",
       "      <td>191</td>\n",
       "      <td>maz4499</td>\n",
       "      <td>2024-12-31 15:12:06</td>\n",
       "    </tr>\n",
       "    <tr>\n",
       "      <th>1</th>\n",
       "      <td>1gum4oc</td>\n",
       "      <td>FirstTimeHomeBuyer</td>\n",
       "      <td>Rocket Mortgage</td>\n",
       "      <td>Is rocket mortgage that bad?</td>\n",
       "      <td>I’m in the market to buy a house now (21m). I have roughly 22k saved up cash with another 3k in stocks if need be. 12k in house savings, 6k in emergency savings, and 4k in car savings. I make 72k a year salary. I have inquired from Rocket mortgage, Chase bank, and Wells Fargo. Rocket mortgage has the most friendly loan officer but haven’t given me an official quote, loan office estimated mid 6 range. Wells Fargo quoted me 6.875 interest and 7.22 APR, and Chase bank seems to have ghosted me. I have - 760-790 credit score depending on bureau. I’m just lost in the process right now. Looking in the 200-250k range for a house. Everyone I have talked to has been confident I can afford 250k and under and have quickly gotten approval letters from rocket mortgage and Wells Fargo.\\n\\nA side note. With my job I get a company truck that I am allowed to use as personal vehicle so I hardly use my 2017 accord and 2004 tundra which are both paid off. So no outstanding debts and no foreseeable need to purchase or repair a vehicle.</td>\n",
       "      <td>0</td>\n",
       "      <td>21</td>\n",
       "      <td>Valuable-Pilot-2818</td>\n",
       "      <td>2024-11-19 01:59:25</td>\n",
       "    </tr>\n",
       "    <tr>\n",
       "      <th>2</th>\n",
       "      <td>1541el1</td>\n",
       "      <td>FirstTimeHomeBuyer</td>\n",
       "      <td>Rocket Mortgage</td>\n",
       "      <td>WARNING- do NOT work with rocket mortgage!!!</td>\n",
       "      <td>EDIT: there is an extreme lack of transparency. Refusal to answer direct and deliberate questions. Constant mistakes in the loan disclosures. Just a huge general incompetence that is honestly beyond embarrassing and beyond frustrating being that it’s one of the biggest purchases I’ll probably ever make it my life. Unwillingness to admit fault and fix the errors always pointing blame and shifting the conversation. Truly worst experience I could have imagine working with them. My LO is a joke. \\n\\n\\nI’m going through an absolute nightmare experience with them right now. They did a complete bait and switch on me. literally tripling my estimated closing cost. I feel like they purposely took their time with the appraisal EDIT** (took them 18** days!!!) now that I see the pictures in his report we’re from much earlier than I thought. \\n\\nNow leaving me only nine days till closing and are demanding a whole laundry list of repairs to be done that are not only extremely expensive added up, but most being purely cosmetic (repaint the house and fix some pieces of wood siding and trim) AND I have a conventional loan. The audacity blows my fucking mind. Even if every lender would require the same repairs, the fact that they are not even willing to, except a letter of intent is wrong. I’m being forced to extend my closing date or breach the contract. Which is more money. \\n\\nPlus the loan officer lied to me blatantly lied to me about the closing cost because she knew I plan to go with another lender. I am a first time homebuyer with virtually zero prior experience. Just trying to do research and learn as I go and trust referrals and it bit me in my ass. I did not get the real closing numbers until I had already gave her the $500 good faith deposit which by the way does not go towards anything and it’s money you will never get back. By the way, I asked several times for a formal loan estimate document and it literally took weeks before I got it. She would always confirm things over the phone or through text now I know that’s part of their scam. \\n\\nShe verified with me over the phone 100 times what my closing cost were which evidently was just a blatant lie. Every time I confront her she disappears. The company will not get me in touch with the manager. Nobody there says they can help me. So basically had me convinced that my total costs to close was just the cost of a rate buy down thanks to my seller concessions. She made it very clear. But it was a blatant lie. \\n\\nIt’s already too late to go with another lender because I will not be able to close on time and will have to incur many fees for extending my closing date, and or possibly just breach the contract and risk the extensive cost of that. \\n\\nI don’t even know what to do anymore. Just making this post to warn the people looking at lenders to not take your chances with them.\\n\\nAlso, according to their site, I should qualify for certain lender credits, but they did not honor it. They’re rates were higher than others, but I stayed with them due to this loan program that ended up costs more than it was saving.\\n\\nThe sales woman / LO is very nice on the phone but ultimately misleading so don’t fall for it like I did :)\\n\\nAlso if you try to get in touch with a manger there GOODLUCK. You never will.\\n\\nPS: if it’s not obvious already, I’m just having fun now in the comments and blowing off steam. Don’t take it personal!</td>\n",
       "      <td>590</td>\n",
       "      <td>471</td>\n",
       "      <td>justmeAlonekitty</td>\n",
       "      <td>2023-07-19 17:31:01</td>\n",
       "    </tr>\n",
       "    <tr>\n",
       "      <th>3</th>\n",
       "      <td>1b3xvqv</td>\n",
       "      <td>FirstTimeHomeBuyer</td>\n",
       "      <td>Rocket Mortgage</td>\n",
       "      <td>Rocket Mortgage: An honest review</td>\n",
       "      <td>As a first time home buyer and a first generation home buyer, I was absolutely lost when it came to the purchase of my first home. Like many other clueless individuals, I turned to google to begin my mortgage lender search. Of course, from the first moment I searched the web, rocket mortgage has flooded me with targeted ads. So, I caved and went through their pre approval. \\n\\nPre approval was extremely easy. Just a few pieces of basic info and I was approved. Tummy approval was MUCH higher than I anticipated though, so I kept this in mind. When it finally came time to make an offer, the home I secured was $50k lower than my pre approval amount. After a back and forth with my lender they said it was a “tight squeeze” but I could make that amount work. So, that was red flag #1 but, nevertheless, it worked out in my favor. \\n\\nI was very diligent on checking my to do list, so nothing ever sat more than a day or so without movement. I do feel if you use RM you need to be on top of your list because they do not notify you when a new task is needed. \\n\\nMy mortgage banker was incredible. He has helped me through the whole process and has worked very well with my realtor. \\n\\nHowever, the second and third RM employees that have been assigned to my file are completely incompetent. I turn to my banker for ALL communications and he is great at getting back to me. I truly feel the banker you are assigned will make or break your experience. I’m lucky, but if I didn’t have him, I don’t think I would have stuck it out with rm. \\n\\nThey did take a 500 deposit the moment my offer was accepted. However, this will go towards closing costs so I am not mad about it. \\n\\nMy rate was locked at 6.1 but did increase to 7.1 after a few adjustments and lender credits were added to my account. This increased my monthly payment by about $100 but it is still well within my budget so again, I’m not mad about it. \\n\\nIf you are flexible and on top of your paperwork, I think RM is a fine option to get the deal done. \\n\\nI close on Tuesday, so if something falls through between then and now I’ll be back to update.</td>\n",
       "      <td>35</td>\n",
       "      <td>71</td>\n",
       "      <td>Separate_Bar685</td>\n",
       "      <td>2024-03-01 16:04:32</td>\n",
       "    </tr>\n",
       "    <tr>\n",
       "      <th>4</th>\n",
       "      <td>1doitpg</td>\n",
       "      <td>FirstTimeHomeBuyer</td>\n",
       "      <td>Rocket Mortgage</td>\n",
       "      <td>Rocket Mortgage Everybody</td>\n",
       "      <td>Took all of my financial information and wouldn't provide a single number in writing. Why the fuck is this kind of lack of transparency legal?</td>\n",
       "      <td>0</td>\n",
       "      <td>23</td>\n",
       "      <td>varicoseballs</td>\n",
       "      <td>2024-06-25 22:31:06</td>\n",
       "    </tr>\n",
       "  </tbody>\n",
       "</table>\n",
       "</div>"
      ],
      "text/plain": [
       "  submission_id      subredit_topic     search_query  \\\n",
       "0       1hqgmvb  FirstTimeHomeBuyer  Rocket Mortgage   \n",
       "1       1gum4oc  FirstTimeHomeBuyer  Rocket Mortgage   \n",
       "2       1541el1  FirstTimeHomeBuyer  Rocket Mortgage   \n",
       "3       1b3xvqv  FirstTimeHomeBuyer  Rocket Mortgage   \n",
       "4       1doitpg  FirstTimeHomeBuyer  Rocket Mortgage   \n",
       "\n",
       "                                          title  \\\n",
       "0                         Avoid Rocket Mortgage   \n",
       "1                  Is rocket mortgage that bad?   \n",
       "2  WARNING- do NOT work with rocket mortgage!!!   \n",
       "3             Rocket Mortgage: An honest review   \n",
       "4                     Rocket Mortgage Everybody   \n",
       "\n",
       "                                                                                                                                                                                                                                                                                                                                                                                                                                                                                                                                                                                                                                                                                                                                                                                                                                                                                                                                                                                                                                                                                                                                                                                                                                                                                                                                                                                                                                                                                                                                                                                                                                                                                                                                                                                                                                                                                                                                                                                                                                                                                                                                                                                                                                                                                                                                                                                                                                                                                                                                                                                                                                                                                                                                                                                                                                                                                                                                                                                                                                                                                                                                                                                                                                                                                                                                                                                                                                                                                                                                                             text  \\\n",
       "0                                                                                                                                                                                                                                                                                                                                                                                                                                                                                                                                                                                                                                                                                                                                                                                                                                                                                                                                                                                                                                                                                                                                                                                                                                                                                                                                                                                                                                                                                                                                                                                                                                                                                                                                                                                                                                                                                                                                                                                                                                                                                                                                                                                                                                                                                                                                                                                                                                                                                                                                                                                                                                                                                                                                                                                                  I have a RM mortgage and they call me once a year and ask where I am employed, what my salary is, if the house needs any repairs, and they run a soft credit check while I am on the phone with them and run through all my credit card debt. They also sell this information. According to the mortgage agreement you are required to cooperate with them. No other mortgage company does this.\\n\\nDuring the mortgage application process, they tried to charge me 3 points (!!).  I got a competitive quote from another mortgage lender at a much lower cost and RM matched the offer.  I wish I went with the other lender.  The only reason I went with RM at that point was because I was further along in the process and rates where trending higher.   \n",
       "1                                                                                                                                                                                                                                                                                                                                                                                                                                                                                                                                                                                                                                                                                                                                                                                                                                                                                                                                                                                                                                                                                                                                                                                                                                                                                                                                                                                                                                                                                                                                                                                                                                                                                                                                                                                                                                                                                                                                                                                                                                                                                                                                                                                                                                                                                                                                                                                                                                                                                           I’m in the market to buy a house now (21m). I have roughly 22k saved up cash with another 3k in stocks if need be. 12k in house savings, 6k in emergency savings, and 4k in car savings. I make 72k a year salary. I have inquired from Rocket mortgage, Chase bank, and Wells Fargo. Rocket mortgage has the most friendly loan officer but haven’t given me an official quote, loan office estimated mid 6 range. Wells Fargo quoted me 6.875 interest and 7.22 APR, and Chase bank seems to have ghosted me. I have - 760-790 credit score depending on bureau. I’m just lost in the process right now. Looking in the 200-250k range for a house. Everyone I have talked to has been confident I can afford 250k and under and have quickly gotten approval letters from rocket mortgage and Wells Fargo.\\n\\nA side note. With my job I get a company truck that I am allowed to use as personal vehicle so I hardly use my 2017 accord and 2004 tundra which are both paid off. So no outstanding debts and no foreseeable need to purchase or repair a vehicle.   \n",
       "2  EDIT: there is an extreme lack of transparency. Refusal to answer direct and deliberate questions. Constant mistakes in the loan disclosures. Just a huge general incompetence that is honestly beyond embarrassing and beyond frustrating being that it’s one of the biggest purchases I’ll probably ever make it my life. Unwillingness to admit fault and fix the errors always pointing blame and shifting the conversation. Truly worst experience I could have imagine working with them. My LO is a joke. \\n\\n\\nI’m going through an absolute nightmare experience with them right now. They did a complete bait and switch on me. literally tripling my estimated closing cost. I feel like they purposely took their time with the appraisal EDIT** (took them 18** days!!!) now that I see the pictures in his report we’re from much earlier than I thought. \\n\\nNow leaving me only nine days till closing and are demanding a whole laundry list of repairs to be done that are not only extremely expensive added up, but most being purely cosmetic (repaint the house and fix some pieces of wood siding and trim) AND I have a conventional loan. The audacity blows my fucking mind. Even if every lender would require the same repairs, the fact that they are not even willing to, except a letter of intent is wrong. I’m being forced to extend my closing date or breach the contract. Which is more money. \\n\\nPlus the loan officer lied to me blatantly lied to me about the closing cost because she knew I plan to go with another lender. I am a first time homebuyer with virtually zero prior experience. Just trying to do research and learn as I go and trust referrals and it bit me in my ass. I did not get the real closing numbers until I had already gave her the $500 good faith deposit which by the way does not go towards anything and it’s money you will never get back. By the way, I asked several times for a formal loan estimate document and it literally took weeks before I got it. She would always confirm things over the phone or through text now I know that’s part of their scam. \\n\\nShe verified with me over the phone 100 times what my closing cost were which evidently was just a blatant lie. Every time I confront her she disappears. The company will not get me in touch with the manager. Nobody there says they can help me. So basically had me convinced that my total costs to close was just the cost of a rate buy down thanks to my seller concessions. She made it very clear. But it was a blatant lie. \\n\\nIt’s already too late to go with another lender because I will not be able to close on time and will have to incur many fees for extending my closing date, and or possibly just breach the contract and risk the extensive cost of that. \\n\\nI don’t even know what to do anymore. Just making this post to warn the people looking at lenders to not take your chances with them.\\n\\nAlso, according to their site, I should qualify for certain lender credits, but they did not honor it. They’re rates were higher than others, but I stayed with them due to this loan program that ended up costs more than it was saving.\\n\\nThe sales woman / LO is very nice on the phone but ultimately misleading so don’t fall for it like I did :)\\n\\nAlso if you try to get in touch with a manger there GOODLUCK. You never will.\\n\\nPS: if it’s not obvious already, I’m just having fun now in the comments and blowing off steam. Don’t take it personal!   \n",
       "3                                                                                                                                                                                                                                                                                                                                                                                                                                                                                                                                                                                                                                                                                                                                                                                                                                                                                                                                                                                                                                                                                                                                                                                                                                                                                                                                                         As a first time home buyer and a first generation home buyer, I was absolutely lost when it came to the purchase of my first home. Like many other clueless individuals, I turned to google to begin my mortgage lender search. Of course, from the first moment I searched the web, rocket mortgage has flooded me with targeted ads. So, I caved and went through their pre approval. \\n\\nPre approval was extremely easy. Just a few pieces of basic info and I was approved. Tummy approval was MUCH higher than I anticipated though, so I kept this in mind. When it finally came time to make an offer, the home I secured was $50k lower than my pre approval amount. After a back and forth with my lender they said it was a “tight squeeze” but I could make that amount work. So, that was red flag #1 but, nevertheless, it worked out in my favor. \\n\\nI was very diligent on checking my to do list, so nothing ever sat more than a day or so without movement. I do feel if you use RM you need to be on top of your list because they do not notify you when a new task is needed. \\n\\nMy mortgage banker was incredible. He has helped me through the whole process and has worked very well with my realtor. \\n\\nHowever, the second and third RM employees that have been assigned to my file are completely incompetent. I turn to my banker for ALL communications and he is great at getting back to me. I truly feel the banker you are assigned will make or break your experience. I’m lucky, but if I didn’t have him, I don’t think I would have stuck it out with rm. \\n\\nThey did take a 500 deposit the moment my offer was accepted. However, this will go towards closing costs so I am not mad about it. \\n\\nMy rate was locked at 6.1 but did increase to 7.1 after a few adjustments and lender credits were added to my account. This increased my monthly payment by about $100 but it is still well within my budget so again, I’m not mad about it. \\n\\nIf you are flexible and on top of your paperwork, I think RM is a fine option to get the deal done. \\n\\nI close on Tuesday, so if something falls through between then and now I’ll be back to update.   \n",
       "4                                                                                                                                                                                                                                                                                                                                                                                                                                                                                                                                                                                                                                                                                                                                                                                                                                                                                                                                                                                                                                                                                                                                                                                                                                                                                                                                                                                                                                                                                                                                                                                                                                                                                                                                                                                                                                                                                                                                                                                                                                                                                                                                                                                                                                                                                                                                                                                                                                                                                                                                                                                                                                                                                                                                                                                                                                                                                                                                                                                                                                                                                                                                                                                                                                                                                                                                                                                                                  Took all of my financial information and wouldn't provide a single number in writing. Why the fuck is this kind of lack of transparency legal?   \n",
       "\n",
       "   score  num_comments             username           created_at  \n",
       "0    602           191              maz4499  2024-12-31 15:12:06  \n",
       "1      0            21  Valuable-Pilot-2818  2024-11-19 01:59:25  \n",
       "2    590           471     justmeAlonekitty  2023-07-19 17:31:01  \n",
       "3     35            71      Separate_Bar685  2024-03-01 16:04:32  \n",
       "4      0            23        varicoseballs  2024-06-25 22:31:06  "
      ]
     },
     "execution_count": 11,
     "metadata": {},
     "output_type": "execute_result"
    }
   ],
   "source": [
    "df.head()"
   ]
  },
  {
   "cell_type": "code",
   "execution_count": 4,
   "metadata": {},
   "outputs": [],
   "source": [
    "# Grab the data\n",
    "# text_data = pd.read_csv('../../data/reddit_posts.csv')\n"
   ]
  },
  {
   "cell_type": "code",
   "execution_count": 8,
   "metadata": {},
   "outputs": [],
   "source": [
    "# Example:\n",
    "\n",
    "# Define the processing model - other options can be found here:\n",
    "# https://www.sbert.net/docs/pretrained_models.html\n",
    "processing_model = \"multi-qa-mpnet-base-dot-v1\"\n",
    "\n",
    "# Create text embeddings of post\n",
    "data_text_embeddings = text_embeddings(text_data, 'text', processing_model) # Generate text embeddings\n",
    "\n",
    "# Embed the query and compute similarity scores\n",
    "query = \"I love this company\"  \n",
    "\n",
    "# High score means the query is similar to the post\n",
    "similarity_scores = compute_similarity_scores(query, data_text_embeddings, processing_model)"
   ]
  },
  {
   "cell_type": "code",
   "execution_count": null,
   "metadata": {},
   "outputs": [],
   "source": []
  }
 ],
 "metadata": {
  "kernelspec": {
   "display_name": "venv",
   "language": "python",
   "name": "python3"
  },
  "language_info": {
   "codemirror_mode": {
    "name": "ipython",
    "version": 3
   },
   "file_extension": ".py",
   "mimetype": "text/x-python",
   "name": "python",
   "nbconvert_exporter": "python",
   "pygments_lexer": "ipython3",
   "version": "3.11.5"
  }
 },
 "nbformat": 4,
 "nbformat_minor": 2
}
