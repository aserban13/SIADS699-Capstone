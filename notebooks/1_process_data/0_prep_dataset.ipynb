{
 "cells": [
  {
   "cell_type": "markdown",
   "metadata": {},
   "source": [
    "## Prepare the dataset \n",
    "\n",
    "Prepare the dataset so that it can be used to label the data.\n",
    "\n",
    "- Posts only posted in 2024 through 2025 \n",
    "- Combine the title and text \n",
    "- Remove spaces in combine_text\n",
    "- Add in identifier column\n"
   ]
  },
  {
   "cell_type": "code",
   "execution_count": 1,
   "metadata": {},
   "outputs": [],
   "source": [
    "%%capture\n",
    "pip install -r ../../requirements.txt"
   ]
  },
  {
   "cell_type": "code",
   "execution_count": 2,
   "metadata": {},
   "outputs": [],
   "source": [
    "# Install the required packages\n",
    "import sys \n",
    "import json #needed to translate JSON data\n",
    "import requests #needed to perform HTTP GET and POST requests\n",
    "import pandas as pd\n",
    "import pprint # allows us to print more readable JSON data\n",
    "from datetime import datetime \n",
    "import time \n",
    "import io\n",
    "\n",
    "# NLP\n",
    "from sentence_transformers import SentenceTransformer\n",
    "from sklearn.metrics.pairwise import cosine_similarity\n",
    "\n",
    "# Need this set to None otherwise text columns will truncate!\n",
    "pd.set_option('display.max_colwidth', None) "
   ]
  },
  {
   "cell_type": "code",
   "execution_count": 3,
   "metadata": {},
   "outputs": [],
   "source": [
    "import sys\n",
    "\n",
    "# set this on the path so that we can reference the commong data locations\n",
    "sys.path.append(\"../../scripts/\")\n",
    "from process_text_data import text_embeddings, compute_similarity_scores"
   ]
  },
  {
   "cell_type": "code",
   "execution_count": 4,
   "metadata": {},
   "outputs": [
    {
     "name": "stdout",
     "output_type": "stream",
     "text": [
      "Successfully loaded 'reddit_data.csv' into a DataFrame!\n"
     ]
    }
   ],
   "source": [
    "from data_collection import authenticate_google_drive, grab_google_drive_folder_data\n",
    "\n",
    "drive = authenticate_google_drive('../0_data_collection/credentials/google_drive_client_secret.json')\n",
    "df = grab_google_drive_folder_data(drive=drive,credential_file=\"../0_data_collection/credentials/google_drive_folder_id.json\",filename=\"reddit_data.csv\")"
   ]
  },
  {
   "cell_type": "code",
   "execution_count": 5,
   "metadata": {},
   "outputs": [],
   "source": [
    "# Convert the 'timestamp' column from object (string) to datetime\n",
    "df['created_at'] = pd.to_datetime(df['created_at'], errors='coerce')\n",
    "\n",
    "# Filter data between 2024 and 2025\n",
    "filtered_df = df[(df['created_at'].dt.year >= 2023) & (df['created_at'].dt.year <= 2025)]\n"
   ]
  },
  {
   "cell_type": "code",
   "execution_count": 6,
   "metadata": {},
   "outputs": [
    {
     "name": "stderr",
     "output_type": "stream",
     "text": [
      "/var/folders/wp/393dmtxd2jd8sj2z2tt7jpm40000gn/T/ipykernel_51325/948794235.py:2: SettingWithCopyWarning: \n",
      "A value is trying to be set on a copy of a slice from a DataFrame.\n",
      "Try using .loc[row_indexer,col_indexer] = value instead\n",
      "\n",
      "See the caveats in the documentation: https://pandas.pydata.org/pandas-docs/stable/user_guide/indexing.html#returning-a-view-versus-a-copy\n",
      "  filtered_df['combine_text'] = filtered_df['title']+\". \"+ filtered_df['text']\n",
      "/var/folders/wp/393dmtxd2jd8sj2z2tt7jpm40000gn/T/ipykernel_51325/948794235.py:3: SettingWithCopyWarning: \n",
      "A value is trying to be set on a copy of a slice from a DataFrame.\n",
      "Try using .loc[row_indexer,col_indexer] = value instead\n",
      "\n",
      "See the caveats in the documentation: https://pandas.pydata.org/pandas-docs/stable/user_guide/indexing.html#returning-a-view-versus-a-copy\n",
      "  filtered_df['combine_text'] = filtered_df['combine_text'].str.strip().str.replace(r'\\s+', ' ', regex=True)\n"
     ]
    }
   ],
   "source": [
    "## Combine text and remove spacing \n",
    "filtered_df['combine_text'] = filtered_df['title']+\". \"+ filtered_df['text']\n",
    "filtered_df['combine_text'] = filtered_df['combine_text'].str.strip().str.replace(r'\\s+', ' ', regex=True)\n"
   ]
  },
  {
   "cell_type": "code",
   "execution_count": 7,
   "metadata": {},
   "outputs": [
    {
     "name": "stdout",
     "output_type": "stream",
     "text": [
      "Number of unique submission ids:  3484\n",
      "Number of total submission ids:  3546\n"
     ]
    }
   ],
   "source": [
    "# Some duplicate posts since the same post may mention two brands \n",
    "print('Number of unique submission ids: ', filtered_df['submission_id'].nunique())\n",
    "print('Number of total submission ids: ', filtered_df['submission_id'].count())\n",
    "\n",
    "# Mini investigation that shows the posts have two different brands \n",
    "# submission_id_dup = filtered_df['submission_id'].value_counts().head()\n",
    "# submission_id_example = submission_id_dup.index[0]\n",
    "# filtered_df[filtered_df['submission_id'] == submission_id_example].head()"
   ]
  },
  {
   "cell_type": "code",
   "execution_count": 8,
   "metadata": {},
   "outputs": [
    {
     "name": "stderr",
     "output_type": "stream",
     "text": [
      "/var/folders/wp/393dmtxd2jd8sj2z2tt7jpm40000gn/T/ipykernel_51325/1056197426.py:2: SettingWithCopyWarning: \n",
      "A value is trying to be set on a copy of a slice from a DataFrame.\n",
      "Try using .loc[row_indexer,col_indexer] = value instead\n",
      "\n",
      "See the caveats in the documentation: https://pandas.pydata.org/pandas-docs/stable/user_guide/indexing.html#returning-a-view-versus-a-copy\n",
      "  filtered_df['url'] = \"https://www.reddit.com/r/FirstTimeHomeBuyer/\"+filtered_df['submission_id']\n"
     ]
    }
   ],
   "source": [
    "# create column that constructs the url for the Reddit Post \n",
    "filtered_df['url'] = \"https://www.reddit.com/r/FirstTimeHomeBuyer/\"+filtered_df['submission_id']"
   ]
  },
  {
   "cell_type": "code",
   "execution_count": 9,
   "metadata": {},
   "outputs": [],
   "source": [
    "from data_collection import authenticate_google_drive, save_google_drive_data\n"
   ]
  },
  {
   "cell_type": "code",
   "execution_count": 10,
   "metadata": {},
   "outputs": [],
   "source": [
    "credentials_path=\"../0_data_collection/credentials/google_drive_client_secret.json\"\n",
    "folder_path=\"../0_data_collection/credentials/google_drive_folder_id.json\""
   ]
  },
  {
   "cell_type": "code",
   "execution_count": 11,
   "metadata": {},
   "outputs": [],
   "source": [
    "# Grab the Google Drive object\n",
    "drive = authenticate_google_drive(credentials_path=credentials_path)\n"
   ]
  },
  {
   "cell_type": "code",
   "execution_count": 12,
   "metadata": {},
   "outputs": [
    {
     "name": "stdout",
     "output_type": "stream",
     "text": [
      "File 'reddit_filtered_data.csv' uploaded successfully to folder 1kJ6TrI9MVT5mfnnYvS-OpRMJFVbIQ6Tl!\n"
     ]
    }
   ],
   "source": [
    "# Save the data in the Google Drive location\n",
    "save_google_drive_data(drive=drive, \n",
    "                       credential_file=folder_path,  \n",
    "                       dataframe =filtered_df, \n",
    "                       filename=\"reddit_filtered_data.csv\")"
   ]
  },
  {
   "cell_type": "code",
   "execution_count": null,
   "metadata": {},
   "outputs": [],
   "source": []
  }
 ],
 "metadata": {
  "kernelspec": {
   "display_name": "base",
   "language": "python",
   "name": "python3"
  },
  "language_info": {
   "codemirror_mode": {
    "name": "ipython",
    "version": 3
   },
   "file_extension": ".py",
   "mimetype": "text/x-python",
   "name": "python",
   "nbconvert_exporter": "python",
   "pygments_lexer": "ipython3",
   "version": "3.11.5"
  }
 },
 "nbformat": 4,
 "nbformat_minor": 2
}
