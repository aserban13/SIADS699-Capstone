{
 "cells": [
  {
   "cell_type": "markdown",
   "metadata": {},
   "source": [
    "## Prepare the dataset \n",
    "\n",
    "Prepare the dataset so that it can be used to label the data.\n",
    "\n",
    "- Posts only posted in 2024 through 2025 \n",
    "- Combine the title and text \n",
    "- Remove spaces in combine_text\n",
    "- Add in identifier column\n"
   ]
  },
  {
   "cell_type": "code",
   "execution_count": 1,
   "metadata": {},
   "outputs": [],
   "source": [
    "%%capture\n",
    "pip install -r ../../requirements.txt"
   ]
  },
  {
   "cell_type": "code",
   "execution_count": 2,
   "metadata": {},
   "outputs": [],
   "source": [
    "# Install the required packages\n",
    "import sys \n",
    "import json #needed to translate JSON data\n",
    "import requests #needed to perform HTTP GET and POST requests\n",
    "import pandas as pd\n",
    "import pprint # allows us to print more readable JSON data\n",
    "from datetime import datetime \n",
    "import time \n",
    "import io\n",
    "\n",
    "# NLP\n",
    "from sentence_transformers import SentenceTransformer\n",
    "from sklearn.metrics.pairwise import cosine_similarity\n",
    "\n",
    "# Need this set to None otherwise text columns will truncate!\n",
    "pd.set_option('display.max_colwidth', None) "
   ]
  },
  {
   "cell_type": "code",
   "execution_count": 3,
   "metadata": {},
   "outputs": [],
   "source": [
    "import sys\n",
    "\n",
    "# set this on the path so that we can reference the commong data locations\n",
    "sys.path.append(\"../../scripts/\")\n",
    "from process_text_data import text_embeddings, compute_similarity_scores"
   ]
  },
  {
   "cell_type": "code",
   "execution_count": 4,
   "metadata": {},
   "outputs": [
    {
     "name": "stdout",
     "output_type": "stream",
     "text": [
      "Successfully loaded 'reddit_data.csv' into a DataFrame!\n"
     ]
    }
   ],
   "source": [
    "from data_collection import authenticate_google_drive, grab_google_drive_folder_data\n",
    "\n",
    "drive = authenticate_google_drive('../0_data_collection/credentials/google_drive_client_secret.json')\n",
    "df = grab_google_drive_folder_data(drive=drive,credential_file=\"../0_data_collection/credentials/google_drive_folder_id.json\",filename=\"reddit_data.csv\")"
   ]
  },
  {
   "cell_type": "code",
   "execution_count": 5,
   "metadata": {},
   "outputs": [],
   "source": [
    "# Convert the 'timestamp' column from object (string) to datetime\n",
    "df['created_at'] = pd.to_datetime(df['created_at'], errors='coerce')\n",
    "\n",
    "# Filter data between 2024 and 2025\n",
    "filtered_df = df[(df['created_at'].dt.year >= 2024) & (df['created_at'].dt.year <= 2025)]\n"
   ]
  },
  {
   "cell_type": "code",
   "execution_count": 6,
   "metadata": {},
   "outputs": [
    {
     "name": "stderr",
     "output_type": "stream",
     "text": [
      "/var/folders/wp/393dmtxd2jd8sj2z2tt7jpm40000gn/T/ipykernel_43534/948794235.py:2: SettingWithCopyWarning: \n",
      "A value is trying to be set on a copy of a slice from a DataFrame.\n",
      "Try using .loc[row_indexer,col_indexer] = value instead\n",
      "\n",
      "See the caveats in the documentation: https://pandas.pydata.org/pandas-docs/stable/user_guide/indexing.html#returning-a-view-versus-a-copy\n",
      "  filtered_df['combine_text'] = filtered_df['title']+\". \"+ filtered_df['text']\n",
      "/var/folders/wp/393dmtxd2jd8sj2z2tt7jpm40000gn/T/ipykernel_43534/948794235.py:3: SettingWithCopyWarning: \n",
      "A value is trying to be set on a copy of a slice from a DataFrame.\n",
      "Try using .loc[row_indexer,col_indexer] = value instead\n",
      "\n",
      "See the caveats in the documentation: https://pandas.pydata.org/pandas-docs/stable/user_guide/indexing.html#returning-a-view-versus-a-copy\n",
      "  filtered_df['combine_text'] = filtered_df['combine_text'].str.strip().str.replace(r'\\s+', ' ', regex=True)\n"
     ]
    }
   ],
   "source": [
    "## Combine text and remove spacing \n",
    "filtered_df['combine_text'] = filtered_df['title']+\". \"+ filtered_df['text']\n",
    "filtered_df['combine_text'] = filtered_df['combine_text'].str.strip().str.replace(r'\\s+', ' ', regex=True)\n"
   ]
  },
  {
   "cell_type": "code",
   "execution_count": 7,
   "metadata": {},
   "outputs": [
    {
     "name": "stderr",
     "output_type": "stream",
     "text": [
      "/var/folders/wp/393dmtxd2jd8sj2z2tt7jpm40000gn/T/ipykernel_43534/180562667.py:4: SettingWithCopyWarning: \n",
      "A value is trying to be set on a copy of a slice from a DataFrame\n",
      "\n",
      "See the caveats in the documentation: https://pandas.pydata.org/pandas-docs/stable/user_guide/indexing.html#returning-a-view-versus-a-copy\n",
      "  filtered_df.rename(columns = {'index': 'unique_identifier'}, inplace=True)\n"
     ]
    }
   ],
   "source": [
    "# Add a column that can be used an unique identifier\n",
    "filtered_df.reset_index(drop=True, inplace=True)\n",
    "filtered_df.reset_index(inplace=True)\n",
    "filtered_df.rename(columns = {'index': 'unique_identifier'}, inplace=True)\n"
   ]
  },
  {
   "cell_type": "code",
   "execution_count": 8,
   "metadata": {},
   "outputs": [
    {
     "data": {
      "text/plain": [
       "(2823, 11)"
      ]
     },
     "execution_count": 8,
     "metadata": {},
     "output_type": "execute_result"
    }
   ],
   "source": [
    "# Update shape \n",
    "filtered_df.shape"
   ]
  },
  {
   "cell_type": "code",
   "execution_count": 9,
   "metadata": {},
   "outputs": [
    {
     "data": {
      "text/html": [
       "<div>\n",
       "<style scoped>\n",
       "    .dataframe tbody tr th:only-of-type {\n",
       "        vertical-align: middle;\n",
       "    }\n",
       "\n",
       "    .dataframe tbody tr th {\n",
       "        vertical-align: top;\n",
       "    }\n",
       "\n",
       "    .dataframe thead th {\n",
       "        text-align: right;\n",
       "    }\n",
       "</style>\n",
       "<table border=\"1\" class=\"dataframe\">\n",
       "  <thead>\n",
       "    <tr style=\"text-align: right;\">\n",
       "      <th></th>\n",
       "      <th>unique_identifier</th>\n",
       "      <th>submission_id</th>\n",
       "      <th>subredit_topic</th>\n",
       "      <th>search_query</th>\n",
       "      <th>title</th>\n",
       "      <th>text</th>\n",
       "      <th>score</th>\n",
       "      <th>num_comments</th>\n",
       "      <th>username</th>\n",
       "      <th>created_at</th>\n",
       "      <th>combine_text</th>\n",
       "    </tr>\n",
       "  </thead>\n",
       "  <tbody>\n",
       "    <tr>\n",
       "      <th>0</th>\n",
       "      <td>0</td>\n",
       "      <td>1hqgmvb</td>\n",
       "      <td>FirstTimeHomeBuyer</td>\n",
       "      <td>Rocket Mortgage</td>\n",
       "      <td>Avoid Rocket Mortgage</td>\n",
       "      <td>I have a RM mortgage and they call me once a year and ask where I am employed, what my salary is, if the house needs any repairs, and they run a soft credit check while I am on the phone with them and run through all my credit card debt. They also sell this information. According to the mortgage agreement you are required to cooperate with them. No other mortgage company does this.\\n\\nDuring the mortgage application process, they tried to charge me 3 points (!!).  I got a competitive quote from another mortgage lender at a much lower cost and RM matched the offer.  I wish I went with the other lender.  The only reason I went with RM at that point was because I was further along in the process and rates where trending higher.</td>\n",
       "      <td>607</td>\n",
       "      <td>191</td>\n",
       "      <td>maz4499</td>\n",
       "      <td>2024-12-31 15:12:06</td>\n",
       "      <td>Avoid Rocket Mortgage. I have a RM mortgage and they call me once a year and ask where I am employed, what my salary is, if the house needs any repairs, and they run a soft credit check while I am on the phone with them and run through all my credit card debt. They also sell this information. According to the mortgage agreement you are required to cooperate with them. No other mortgage company does this. During the mortgage application process, they tried to charge me 3 points (!!). I got a competitive quote from another mortgage lender at a much lower cost and RM matched the offer. I wish I went with the other lender. The only reason I went with RM at that point was because I was further along in the process and rates where trending higher.</td>\n",
       "    </tr>\n",
       "    <tr>\n",
       "      <th>1</th>\n",
       "      <td>1</td>\n",
       "      <td>1gum4oc</td>\n",
       "      <td>FirstTimeHomeBuyer</td>\n",
       "      <td>Rocket Mortgage</td>\n",
       "      <td>Is rocket mortgage that bad?</td>\n",
       "      <td>I’m in the market to buy a house now (21m). I have roughly 22k saved up cash with another 3k in stocks if need be. 12k in house savings, 6k in emergency savings, and 4k in car savings. I make 72k a year salary. I have inquired from Rocket mortgage, Chase bank, and Wells Fargo. Rocket mortgage has the most friendly loan officer but haven’t given me an official quote, loan office estimated mid 6 range. Wells Fargo quoted me 6.875 interest and 7.22 APR, and Chase bank seems to have ghosted me. I have - 760-790 credit score depending on bureau. I’m just lost in the process right now. Looking in the 200-250k range for a house. Everyone I have talked to has been confident I can afford 250k and under and have quickly gotten approval letters from rocket mortgage and Wells Fargo.\\n\\nA side note. With my job I get a company truck that I am allowed to use as personal vehicle so I hardly use my 2017 accord and 2004 tundra which are both paid off. So no outstanding debts and no foreseeable need to purchase or repair a vehicle.</td>\n",
       "      <td>0</td>\n",
       "      <td>21</td>\n",
       "      <td>Valuable-Pilot-2818</td>\n",
       "      <td>2024-11-19 01:59:25</td>\n",
       "      <td>Is rocket mortgage that bad?. I’m in the market to buy a house now (21m). I have roughly 22k saved up cash with another 3k in stocks if need be. 12k in house savings, 6k in emergency savings, and 4k in car savings. I make 72k a year salary. I have inquired from Rocket mortgage, Chase bank, and Wells Fargo. Rocket mortgage has the most friendly loan officer but haven’t given me an official quote, loan office estimated mid 6 range. Wells Fargo quoted me 6.875 interest and 7.22 APR, and Chase bank seems to have ghosted me. I have - 760-790 credit score depending on bureau. I’m just lost in the process right now. Looking in the 200-250k range for a house. Everyone I have talked to has been confident I can afford 250k and under and have quickly gotten approval letters from rocket mortgage and Wells Fargo. A side note. With my job I get a company truck that I am allowed to use as personal vehicle so I hardly use my 2017 accord and 2004 tundra which are both paid off. So no outstanding debts and no foreseeable need to purchase or repair a vehicle.</td>\n",
       "    </tr>\n",
       "  </tbody>\n",
       "</table>\n",
       "</div>"
      ],
      "text/plain": [
       "   unique_identifier submission_id      subredit_topic     search_query  \\\n",
       "0                  0       1hqgmvb  FirstTimeHomeBuyer  Rocket Mortgage   \n",
       "1                  1       1gum4oc  FirstTimeHomeBuyer  Rocket Mortgage   \n",
       "\n",
       "                          title  \\\n",
       "0         Avoid Rocket Mortgage   \n",
       "1  Is rocket mortgage that bad?   \n",
       "\n",
       "                                                                                                                                                                                                                                                                                                                                                                                                                                                                                                                                                                                                                                                                                                                                                                                                                                                                                                                                                                                                                                                                    text  \\\n",
       "0                                                                                                                                                                                                                                                                                                         I have a RM mortgage and they call me once a year and ask where I am employed, what my salary is, if the house needs any repairs, and they run a soft credit check while I am on the phone with them and run through all my credit card debt. They also sell this information. According to the mortgage agreement you are required to cooperate with them. No other mortgage company does this.\\n\\nDuring the mortgage application process, they tried to charge me 3 points (!!).  I got a competitive quote from another mortgage lender at a much lower cost and RM matched the offer.  I wish I went with the other lender.  The only reason I went with RM at that point was because I was further along in the process and rates where trending higher.   \n",
       "1  I’m in the market to buy a house now (21m). I have roughly 22k saved up cash with another 3k in stocks if need be. 12k in house savings, 6k in emergency savings, and 4k in car savings. I make 72k a year salary. I have inquired from Rocket mortgage, Chase bank, and Wells Fargo. Rocket mortgage has the most friendly loan officer but haven’t given me an official quote, loan office estimated mid 6 range. Wells Fargo quoted me 6.875 interest and 7.22 APR, and Chase bank seems to have ghosted me. I have - 760-790 credit score depending on bureau. I’m just lost in the process right now. Looking in the 200-250k range for a house. Everyone I have talked to has been confident I can afford 250k and under and have quickly gotten approval letters from rocket mortgage and Wells Fargo.\\n\\nA side note. With my job I get a company truck that I am allowed to use as personal vehicle so I hardly use my 2017 accord and 2004 tundra which are both paid off. So no outstanding debts and no foreseeable need to purchase or repair a vehicle.   \n",
       "\n",
       "   score  num_comments             username          created_at  \\\n",
       "0    607           191              maz4499 2024-12-31 15:12:06   \n",
       "1      0            21  Valuable-Pilot-2818 2024-11-19 01:59:25   \n",
       "\n",
       "                                                                                                                                                                                                                                                                                                                                                                                                                                                                                                                                                                                                                                                                                                                                                                                                                                                                                                                                                                                                                                                                                       combine_text  \n",
       "0                                                                                                                                                                                                                                                                                                                   Avoid Rocket Mortgage. I have a RM mortgage and they call me once a year and ask where I am employed, what my salary is, if the house needs any repairs, and they run a soft credit check while I am on the phone with them and run through all my credit card debt. They also sell this information. According to the mortgage agreement you are required to cooperate with them. No other mortgage company does this. During the mortgage application process, they tried to charge me 3 points (!!). I got a competitive quote from another mortgage lender at a much lower cost and RM matched the offer. I wish I went with the other lender. The only reason I went with RM at that point was because I was further along in the process and rates where trending higher.  \n",
       "1  Is rocket mortgage that bad?. I’m in the market to buy a house now (21m). I have roughly 22k saved up cash with another 3k in stocks if need be. 12k in house savings, 6k in emergency savings, and 4k in car savings. I make 72k a year salary. I have inquired from Rocket mortgage, Chase bank, and Wells Fargo. Rocket mortgage has the most friendly loan officer but haven’t given me an official quote, loan office estimated mid 6 range. Wells Fargo quoted me 6.875 interest and 7.22 APR, and Chase bank seems to have ghosted me. I have - 760-790 credit score depending on bureau. I’m just lost in the process right now. Looking in the 200-250k range for a house. Everyone I have talked to has been confident I can afford 250k and under and have quickly gotten approval letters from rocket mortgage and Wells Fargo. A side note. With my job I get a company truck that I am allowed to use as personal vehicle so I hardly use my 2017 accord and 2004 tundra which are both paid off. So no outstanding debts and no foreseeable need to purchase or repair a vehicle.  "
      ]
     },
     "execution_count": 9,
     "metadata": {},
     "output_type": "execute_result"
    }
   ],
   "source": [
    "filtered_df.head(2) \n"
   ]
  },
  {
   "cell_type": "code",
   "execution_count": 10,
   "metadata": {},
   "outputs": [],
   "source": [
    "from data_collection import authenticate_google_drive, save_google_drive_data\n"
   ]
  },
  {
   "cell_type": "code",
   "execution_count": 11,
   "metadata": {},
   "outputs": [],
   "source": [
    "credentials_path=\"../0_data_collection/credentials/google_drive_client_secret.json\"\n",
    "folder_path=\"../0_data_collection/credentials/google_drive_folder_id.json\""
   ]
  },
  {
   "cell_type": "code",
   "execution_count": 12,
   "metadata": {},
   "outputs": [],
   "source": [
    "# Grab the Google Drive object\n",
    "drive = authenticate_google_drive(credentials_path=credentials_path)\n"
   ]
  },
  {
   "cell_type": "code",
   "execution_count": 13,
   "metadata": {},
   "outputs": [
    {
     "name": "stdout",
     "output_type": "stream",
     "text": [
      "File 'reddit_filtered_data.csv' uploaded successfully to folder 1kJ6TrI9MVT5mfnnYvS-OpRMJFVbIQ6Tl!\n"
     ]
    }
   ],
   "source": [
    "# Save the data in the Google Drive location\n",
    "save_google_drive_data(drive=drive, \n",
    "                       credential_file=folder_path,  \n",
    "                       dataframe =filtered_df, \n",
    "                       filename=\"reddit_filtered_data.csv\")"
   ]
  },
  {
   "cell_type": "code",
   "execution_count": null,
   "metadata": {},
   "outputs": [],
   "source": []
  }
 ],
 "metadata": {
  "kernelspec": {
   "display_name": "base",
   "language": "python",
   "name": "python3"
  },
  "language_info": {
   "codemirror_mode": {
    "name": "ipython",
    "version": 3
   },
   "file_extension": ".py",
   "mimetype": "text/x-python",
   "name": "python",
   "nbconvert_exporter": "python",
   "pygments_lexer": "ipython3",
   "version": "3.11.5"
  }
 },
 "nbformat": 4,
 "nbformat_minor": 2
}
