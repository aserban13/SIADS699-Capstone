{
 "cells": [
  {
   "cell_type": "markdown",
   "metadata": {},
   "source": [
    "# Create XGBoost Model  \n",
    "\n",
    "Given the tokenization encoding from **bge-m3** and some of the attributes from the post, predict whether the post is negative, positive, or neutral"
   ]
  },
  {
   "cell_type": "code",
   "execution_count": 3,
   "metadata": {},
   "outputs": [
    {
     "name": "stdout",
     "output_type": "stream",
     "text": [
      "Package                 Version\n",
      "----------------------- -----------\n",
      "appnope                 0.1.4\n",
      "asttokens               3.0.0\n",
      "comm                    0.2.2\n",
      "debugpy                 1.8.13\n",
      "decorator               5.2.1\n",
      "executing               2.2.0\n",
      "ipykernel               6.29.5\n",
      "ipython                 9.0.2\n",
      "ipython_pygments_lexers 1.1.1\n",
      "jedi                    0.19.2\n",
      "jupyter_client          8.6.3\n",
      "jupyter_core            5.7.2\n",
      "matplotlib-inline       0.1.7\n",
      "nest-asyncio            1.6.0\n",
      "packaging               24.2\n",
      "parso                   0.8.4\n",
      "pexpect                 4.9.0\n",
      "pip                     24.3.1\n",
      "platformdirs            4.3.7\n",
      "prompt_toolkit          3.0.50\n",
      "psutil                  7.0.0\n",
      "ptyprocess              0.7.0\n",
      "pure_eval               0.2.3\n",
      "Pygments                2.19.1\n",
      "python-dateutil         2.9.0.post0\n",
      "pyzmq                   26.3.0\n",
      "six                     1.17.0\n",
      "stack-data              0.6.3\n",
      "tornado                 6.4.2\n",
      "traitlets               5.14.3\n",
      "wcwidth                 0.2.13\n",
      "Note: you may need to restart the kernel to use updated packages.\n"
     ]
    }
   ],
   "source": [
    "pip list"
   ]
  },
  {
   "cell_type": "code",
   "execution_count": 1,
   "metadata": {},
   "outputs": [],
   "source": [
    "# !pip install --upgrade pip setuptools wheel\n",
    "# !pip uninstall urllib3 -y"
   ]
  },
  {
   "cell_type": "code",
   "execution_count": 2,
   "metadata": {},
   "outputs": [],
   "source": [
    "# conda install numpy==1.24.4 \n",
    "# !pip uninstall numpy -y"
   ]
  },
  {
   "cell_type": "code",
   "execution_count": 3,
   "metadata": {},
   "outputs": [],
   "source": [
    "# %%capture\n",
    "# !pip install --force-reinstall transformers==4.20.1\n",
    "# !pip install --force-reinstall sentence-transformers==3.4.1\n",
    "\n",
    "# import transformers\n",
    "# transformers.version\n",
    "# !pip uninstall transformers -y\n",
    "# !pip install --force-reinstall transformers==4.37.2\n",
    "\n",
    "# !pip3 install -r ../requirements.txt"
   ]
  },
  {
   "cell_type": "code",
   "execution_count": 2,
   "metadata": {},
   "outputs": [
    {
     "name": "stdout",
     "output_type": "stream",
     "text": [
      "Package                 Version\n",
      "----------------------- -----------\n",
      "appnope                 0.1.4\n",
      "asttokens               3.0.0\n",
      "comm                    0.2.2\n",
      "debugpy                 1.8.13\n",
      "decorator               5.2.1\n",
      "executing               2.2.0\n",
      "ipykernel               6.29.5\n",
      "ipython                 9.0.2\n",
      "ipython_pygments_lexers 1.1.1\n",
      "jedi                    0.19.2\n",
      "jupyter_client          8.6.3\n",
      "jupyter_core            5.7.2\n",
      "matplotlib-inline       0.1.7\n",
      "nest-asyncio            1.6.0\n",
      "packaging               24.2\n",
      "parso                   0.8.4\n",
      "pexpect                 4.9.0\n",
      "pip                     24.3.1\n",
      "platformdirs            4.3.7\n",
      "prompt_toolkit          3.0.50\n",
      "psutil                  7.0.0\n",
      "ptyprocess              0.7.0\n",
      "pure_eval               0.2.3\n",
      "Pygments                2.19.1\n",
      "python-dateutil         2.9.0.post0\n",
      "pyzmq                   26.3.0\n",
      "six                     1.17.0\n",
      "stack-data              0.6.3\n",
      "tornado                 6.4.2\n",
      "traitlets               5.14.3\n",
      "wcwidth                 0.2.13\n",
      "Note: you may need to restart the kernel to use updated packages.\n"
     ]
    }
   ],
   "source": [
    "pip list"
   ]
  },
  {
   "cell_type": "code",
   "execution_count": 1,
   "metadata": {},
   "outputs": [
    {
     "ename": "ModuleNotFoundError",
     "evalue": "No module named 'sentence_transformers'",
     "output_type": "error",
     "traceback": [
      "\u001b[31m---------------------------------------------------------------------------\u001b[39m",
      "\u001b[31mModuleNotFoundError\u001b[39m                       Traceback (most recent call last)",
      "\u001b[36mCell\u001b[39m\u001b[36m \u001b[39m\u001b[32mIn[1]\u001b[39m\u001b[32m, line 1\u001b[39m\n\u001b[32m----> \u001b[39m\u001b[32m1\u001b[39m \u001b[38;5;28;01mfrom\u001b[39;00m\u001b[38;5;250m \u001b[39m\u001b[34;01msentence_transformers\u001b[39;00m\u001b[38;5;250m \u001b[39m\u001b[38;5;28;01mimport\u001b[39;00m SentenceTransformer\n\u001b[32m      2\u001b[39m \u001b[38;5;28;01mimport\u001b[39;00m\u001b[38;5;250m \u001b[39m\u001b[34;01mpandas\u001b[39;00m\u001b[38;5;250m \u001b[39m\u001b[38;5;28;01mas\u001b[39;00m\u001b[38;5;250m \u001b[39m\u001b[34;01mpd\u001b[39;00m\n\u001b[32m      3\u001b[39m \u001b[38;5;28;01mimport\u001b[39;00m\u001b[38;5;250m \u001b[39m\u001b[34;01msys\u001b[39;00m \n",
      "\u001b[31mModuleNotFoundError\u001b[39m: No module named 'sentence_transformers'"
     ]
    }
   ],
   "source": [
    "from sentence_transformers import SentenceTransformer\n",
    "import pandas as pd\n",
    "import sys \n",
    "import requests\n",
    "\n",
    "sys.path.append('../scripts/')"
   ]
  },
  {
   "cell_type": "code",
   "execution_count": 7,
   "metadata": {},
   "outputs": [
    {
     "ename": "NameError",
     "evalue": "name 'pd' is not defined",
     "output_type": "error",
     "traceback": [
      "\u001b[31m---------------------------------------------------------------------------\u001b[39m",
      "\u001b[31mNameError\u001b[39m                                 Traceback (most recent call last)",
      "\u001b[36mCell\u001b[39m\u001b[36m \u001b[39m\u001b[32mIn[7]\u001b[39m\u001b[32m, line 1\u001b[39m\n\u001b[32m----> \u001b[39m\u001b[32m1\u001b[39m \u001b[43mpd\u001b[49m.set_option(\u001b[33m'\u001b[39m\u001b[33mdisplay.max_rows\u001b[39m\u001b[33m'\u001b[39m, \u001b[32m100\u001b[39m)\n",
      "\u001b[31mNameError\u001b[39m: name 'pd' is not defined"
     ]
    }
   ],
   "source": [
    "pd.set_option('display.max_rows', 100)"
   ]
  },
  {
   "cell_type": "code",
   "execution_count": 8,
   "metadata": {},
   "outputs": [],
   "source": [
    "random_state = 13"
   ]
  },
  {
   "cell_type": "code",
   "execution_count": 5,
   "metadata": {},
   "outputs": [
    {
     "name": "stdout",
     "output_type": "stream",
     "text": [
      "Successfully loaded 'combined_labeled_data.csv' into a DataFrame!\n"
     ]
    }
   ],
   "source": [
    "from access_data import authenticate_google_drive, grab_google_drive_folder_data\n",
    "\n",
    "drive = authenticate_google_drive()\n",
    "text_data = grab_google_drive_folder_data(drive=drive,filename=\"combined_labeled_data.csv\")"
   ]
  },
  {
   "cell_type": "code",
   "execution_count": 6,
   "metadata": {},
   "outputs": [
    {
     "name": "stdout",
     "output_type": "stream",
     "text": [
      "Started with model BAAI/bge-small-en-v1.5\n",
      "Done with model: BAAI/bge-small-en-v1.5\n",
      "CPU times: user 25 s, sys: 4.66 s, total: 29.6 s\n",
      "Wall time: 17.2 s\n"
     ]
    }
   ],
   "source": [
    "%%time \n",
    "\n",
    "def create_embedding_dataframes(post_dataset, model, col_to_encode='combine_text'):\n",
    "\n",
    "    dataset = post_dataset.copy().reset_index(drop=True)\n",
    "    text_to_encode = post_dataset[col_to_encode]\n",
    "    \n",
    "    data_with_embdedding = pd.DataFrame()\n",
    "    print('Started with model ' + model)\n",
    "    load_model = SentenceTransformer(model, device=\"cpu\") \n",
    "    post_embedding = load_model.encode(text_to_encode.values)\n",
    "    data_with_embdedding = pd.concat([dataset, pd.DataFrame(post_embedding)], axis = 1)\n",
    "    print('Done with model: ' + model)\n",
    "\n",
    "    return data_with_embdedding\n",
    "    \n",
    "# \"BAAI/bge-m3\", bert-base-nli-mean-tokens\n",
    "# model_names = [\"bert-base-nli-mean-tokens\"]\n",
    "# model = \"BAAI/bge-m3\"\n",
    "model = \"BAAI/bge-small-en-v1.5\"\n",
    "# model = \"bert-base-nli-mean-tokens\"\n",
    "embedded_df = create_embedding_dataframes(text_data, model)\n"
   ]
  },
  {
   "cell_type": "code",
   "execution_count": 7,
   "metadata": {},
   "outputs": [
    {
     "data": {
      "text/html": [
       "<div>\n",
       "<style scoped>\n",
       "    .dataframe tbody tr th:only-of-type {\n",
       "        vertical-align: middle;\n",
       "    }\n",
       "\n",
       "    .dataframe tbody tr th {\n",
       "        vertical-align: top;\n",
       "    }\n",
       "\n",
       "    .dataframe thead th {\n",
       "        text-align: right;\n",
       "    }\n",
       "</style>\n",
       "<table border=\"1\" class=\"dataframe\">\n",
       "  <thead>\n",
       "    <tr style=\"text-align: right;\">\n",
       "      <th></th>\n",
       "      <th>submission_id</th>\n",
       "      <th>subreddit_topic</th>\n",
       "      <th>search_query</th>\n",
       "      <th>combine_text</th>\n",
       "      <th>url</th>\n",
       "      <th>label</th>\n",
       "      <th>reviewer</th>\n",
       "      <th>0</th>\n",
       "      <th>1</th>\n",
       "      <th>2</th>\n",
       "      <th>...</th>\n",
       "      <th>374</th>\n",
       "      <th>375</th>\n",
       "      <th>376</th>\n",
       "      <th>377</th>\n",
       "      <th>378</th>\n",
       "      <th>379</th>\n",
       "      <th>380</th>\n",
       "      <th>381</th>\n",
       "      <th>382</th>\n",
       "      <th>383</th>\n",
       "    </tr>\n",
       "  </thead>\n",
       "  <tbody>\n",
       "    <tr>\n",
       "      <th>0</th>\n",
       "      <td>18zezww</td>\n",
       "      <td>realtors</td>\n",
       "      <td>Zillow</td>\n",
       "      <td>Zillow premier agent vs. Realtor.com. I'm look...</td>\n",
       "      <td>https://www.reddit.com/r/realtors/comments/18z...</td>\n",
       "      <td>Neutral</td>\n",
       "      <td>chrismca</td>\n",
       "      <td>-0.006613</td>\n",
       "      <td>-0.054285</td>\n",
       "      <td>-0.035912</td>\n",
       "      <td>...</td>\n",
       "      <td>0.018380</td>\n",
       "      <td>0.012204</td>\n",
       "      <td>-0.012643</td>\n",
       "      <td>-0.011230</td>\n",
       "      <td>0.015382</td>\n",
       "      <td>0.018221</td>\n",
       "      <td>0.034884</td>\n",
       "      <td>0.028262</td>\n",
       "      <td>0.003052</td>\n",
       "      <td>0.026951</td>\n",
       "    </tr>\n",
       "    <tr>\n",
       "      <th>1</th>\n",
       "      <td>1g3882c</td>\n",
       "      <td>HomeNetworking</td>\n",
       "      <td>Xfinity</td>\n",
       "      <td>Xfinity wants me to install splitter so neighb...</td>\n",
       "      <td>https://www.reddit.com/r/HomeNetworking/commen...</td>\n",
       "      <td>Neutral</td>\n",
       "      <td>chrismca</td>\n",
       "      <td>-0.013227</td>\n",
       "      <td>-0.078881</td>\n",
       "      <td>0.057679</td>\n",
       "      <td>...</td>\n",
       "      <td>0.016165</td>\n",
       "      <td>-0.051144</td>\n",
       "      <td>-0.017337</td>\n",
       "      <td>-0.004718</td>\n",
       "      <td>0.007024</td>\n",
       "      <td>0.025523</td>\n",
       "      <td>-0.012889</td>\n",
       "      <td>0.033474</td>\n",
       "      <td>0.007012</td>\n",
       "      <td>0.058340</td>\n",
       "    </tr>\n",
       "    <tr>\n",
       "      <th>2</th>\n",
       "      <td>1iy5lng</td>\n",
       "      <td>IRS</td>\n",
       "      <td>Turbo Tax</td>\n",
       "      <td>Turbo Tax DDD. Anyone else who filed early wit...</td>\n",
       "      <td>https://www.reddit.com/r/IRS/comments/1iy5lng/...</td>\n",
       "      <td>Neutral</td>\n",
       "      <td>chrismca</td>\n",
       "      <td>-0.102254</td>\n",
       "      <td>-0.036086</td>\n",
       "      <td>-0.006344</td>\n",
       "      <td>...</td>\n",
       "      <td>0.037448</td>\n",
       "      <td>-0.019023</td>\n",
       "      <td>-0.034445</td>\n",
       "      <td>-0.010031</td>\n",
       "      <td>-0.017376</td>\n",
       "      <td>0.024768</td>\n",
       "      <td>-0.002800</td>\n",
       "      <td>0.060249</td>\n",
       "      <td>0.006012</td>\n",
       "      <td>0.004829</td>\n",
       "    </tr>\n",
       "    <tr>\n",
       "      <th>3</th>\n",
       "      <td>1i5ihae</td>\n",
       "      <td>Comcast_Xfinity</td>\n",
       "      <td>Xfinity</td>\n",
       "      <td>Xfinity Couldn't Care Less About its Customers...</td>\n",
       "      <td>https://www.reddit.com/r/Comcast_Xfinity/comme...</td>\n",
       "      <td>Negative</td>\n",
       "      <td>chrismca</td>\n",
       "      <td>-0.038031</td>\n",
       "      <td>-0.060860</td>\n",
       "      <td>0.030182</td>\n",
       "      <td>...</td>\n",
       "      <td>-0.004865</td>\n",
       "      <td>-0.101199</td>\n",
       "      <td>-0.002559</td>\n",
       "      <td>0.001837</td>\n",
       "      <td>-0.065044</td>\n",
       "      <td>0.015349</td>\n",
       "      <td>-0.035043</td>\n",
       "      <td>-0.007033</td>\n",
       "      <td>0.000938</td>\n",
       "      <td>0.022963</td>\n",
       "    </tr>\n",
       "    <tr>\n",
       "      <th>4</th>\n",
       "      <td>1j57n5j</td>\n",
       "      <td>Mortgages</td>\n",
       "      <td>Rocket Mortgage</td>\n",
       "      <td>Has anyone done a early pay off of their Rocke...</td>\n",
       "      <td>https://www.reddit.com/r/Mortgages/comments/1j...</td>\n",
       "      <td>Neutral</td>\n",
       "      <td>chrismca</td>\n",
       "      <td>-0.016353</td>\n",
       "      <td>-0.042580</td>\n",
       "      <td>-0.003446</td>\n",
       "      <td>...</td>\n",
       "      <td>0.050818</td>\n",
       "      <td>-0.036677</td>\n",
       "      <td>-0.041011</td>\n",
       "      <td>0.054549</td>\n",
       "      <td>-0.028821</td>\n",
       "      <td>-0.007817</td>\n",
       "      <td>0.045909</td>\n",
       "      <td>0.013124</td>\n",
       "      <td>-0.002656</td>\n",
       "      <td>0.038991</td>\n",
       "    </tr>\n",
       "  </tbody>\n",
       "</table>\n",
       "<p>5 rows × 391 columns</p>\n",
       "</div>"
      ],
      "text/plain": [
       "  submission_id  subreddit_topic     search_query  \\\n",
       "0       18zezww         realtors           Zillow   \n",
       "1       1g3882c   HomeNetworking          Xfinity   \n",
       "2       1iy5lng              IRS        Turbo Tax   \n",
       "3       1i5ihae  Comcast_Xfinity          Xfinity   \n",
       "4       1j57n5j        Mortgages  Rocket Mortgage   \n",
       "\n",
       "                                        combine_text  \\\n",
       "0  Zillow premier agent vs. Realtor.com. I'm look...   \n",
       "1  Xfinity wants me to install splitter so neighb...   \n",
       "2  Turbo Tax DDD. Anyone else who filed early wit...   \n",
       "3  Xfinity Couldn't Care Less About its Customers...   \n",
       "4  Has anyone done a early pay off of their Rocke...   \n",
       "\n",
       "                                                 url     label  reviewer  \\\n",
       "0  https://www.reddit.com/r/realtors/comments/18z...   Neutral  chrismca   \n",
       "1  https://www.reddit.com/r/HomeNetworking/commen...   Neutral  chrismca   \n",
       "2  https://www.reddit.com/r/IRS/comments/1iy5lng/...   Neutral  chrismca   \n",
       "3  https://www.reddit.com/r/Comcast_Xfinity/comme...  Negative  chrismca   \n",
       "4  https://www.reddit.com/r/Mortgages/comments/1j...   Neutral  chrismca   \n",
       "\n",
       "          0         1         2  ...       374       375       376       377  \\\n",
       "0 -0.006613 -0.054285 -0.035912  ...  0.018380  0.012204 -0.012643 -0.011230   \n",
       "1 -0.013227 -0.078881  0.057679  ...  0.016165 -0.051144 -0.017337 -0.004718   \n",
       "2 -0.102254 -0.036086 -0.006344  ...  0.037448 -0.019023 -0.034445 -0.010031   \n",
       "3 -0.038031 -0.060860  0.030182  ... -0.004865 -0.101199 -0.002559  0.001837   \n",
       "4 -0.016353 -0.042580 -0.003446  ...  0.050818 -0.036677 -0.041011  0.054549   \n",
       "\n",
       "        378       379       380       381       382       383  \n",
       "0  0.015382  0.018221  0.034884  0.028262  0.003052  0.026951  \n",
       "1  0.007024  0.025523 -0.012889  0.033474  0.007012  0.058340  \n",
       "2 -0.017376  0.024768 -0.002800  0.060249  0.006012  0.004829  \n",
       "3 -0.065044  0.015349 -0.035043 -0.007033  0.000938  0.022963  \n",
       "4 -0.028821 -0.007817  0.045909  0.013124 -0.002656  0.038991  \n",
       "\n",
       "[5 rows x 391 columns]"
      ]
     },
     "execution_count": 7,
     "metadata": {},
     "output_type": "execute_result"
    }
   ],
   "source": [
    "embedded_df.head()"
   ]
  },
  {
   "cell_type": "code",
   "execution_count": 8,
   "metadata": {},
   "outputs": [
    {
     "data": {
      "text/plain": [
       "submission_id      0\n",
       "subreddit_topic    0\n",
       "search_query       0\n",
       "combine_text       0\n",
       "url                0\n",
       "                  ..\n",
       "379                0\n",
       "380                0\n",
       "381                0\n",
       "382                0\n",
       "383                0\n",
       "Length: 391, dtype: int64"
      ]
     },
     "execution_count": 8,
     "metadata": {},
     "output_type": "execute_result"
    }
   ],
   "source": [
    "embedded_df.isna().sum()"
   ]
  },
  {
   "cell_type": "code",
   "execution_count": 9,
   "metadata": {},
   "outputs": [],
   "source": [
    "from sklearn.model_selection import train_test_split\n",
    "from sklearn.metrics import  classification_report\n",
    "import xgboost as xgb"
   ]
  },
  {
   "cell_type": "code",
   "execution_count": 10,
   "metadata": {},
   "outputs": [
    {
     "name": "stderr",
     "output_type": "stream",
     "text": [
      "/var/folders/wp/393dmtxd2jd8sj2z2tt7jpm40000gn/T/ipykernel_1689/4046039977.py:27: SettingWithCopyWarning: \n",
      "A value is trying to be set on a copy of a slice from a DataFrame.\n",
      "Try using .loc[row_indexer,col_indexer] = value instead\n",
      "\n",
      "See the caveats in the documentation: https://pandas.pydata.org/pandas-docs/stable/user_guide/indexing.html#returning-a-view-versus-a-copy\n",
      "  X[cat] = X[cat].astype(\"category\")\n",
      "/var/folders/wp/393dmtxd2jd8sj2z2tt7jpm40000gn/T/ipykernel_1689/4046039977.py:27: SettingWithCopyWarning: \n",
      "A value is trying to be set on a copy of a slice from a DataFrame.\n",
      "Try using .loc[row_indexer,col_indexer] = value instead\n",
      "\n",
      "See the caveats in the documentation: https://pandas.pydata.org/pandas-docs/stable/user_guide/indexing.html#returning-a-view-versus-a-copy\n",
      "  X[cat] = X[cat].astype(\"category\")\n"
     ]
    }
   ],
   "source": [
    "# ================================\n",
    "# Feature Prep & Split Data \n",
    "# ================================\n",
    "label_mapping = {\n",
    "    'Neutral': 0,\n",
    "    'Negative': 1,\n",
    "    'Positive': 2\n",
    "}\n",
    "embedded_df['label_encode'] = embedded_df['label'].map(label_mapping)\n",
    "\n",
    "ids = ['submission_id']\n",
    "tokenization_columns_numerical = list(embedded_df.columns)[7:]\n",
    "categorical = ['subreddit_topic', 'search_query']\n",
    "features = tokenization_columns_numerical + categorical\n",
    "target = 'label_encode'\n",
    "\n",
    "# Prevent data leakage \n",
    "if target in features: \n",
    "    features.remove(target)\n",
    "\n",
    "X = embedded_df[features]\n",
    "y = embedded_df[target]\n",
    "id_df = embedded_df[ids]\n",
    "\n",
    "# Enable Categorical \n",
    "for cat in categorical: \n",
    "    X[cat] = X[cat].astype(\"category\") \n",
    "    embedded_df[cat] = embedded_df[cat].astype(\"category\")\n",
    "\n",
    "X_train, X_test, y_train, y_test, id_train, id_test  = train_test_split(X, y, id_df, test_size=0.33, random_state=random_state)\n"
   ]
  },
  {
   "cell_type": "code",
   "execution_count": null,
   "metadata": {},
   "outputs": [],
   "source": [
    "import numpy as np\n",
    "import pandas as pd \n",
    "import xgboost as xgb\n",
    "# ================================\n",
    "# Handle Class Imbalance & Create model pipeline\n",
    "# ================================\n",
    "from sklearn.utils.class_weight import compute_class_weight,compute_sample_weight\n",
    "\n",
    "# Compute class weights to offset the class imbalance\n",
    "y_train = np.array([0, 0, 0, 1, 1])  # Imbalance: More 0s than 1s\n",
    "class_weights = compute_class_weight('balanced', classes=np.unique(y_train), y=y_train)\n",
    "# print(\"Class Weights:\", class_weights)\n",
    "\n",
    "# # Fit the model with sample weights\n",
    "class_weight_dict = {i: weight for i, weight in enumerate(class_weights)}\n",
    "\n",
    "model = xgb.XGBClassifier(\n",
    "    objective='multi:softmax',       \n",
    "    num_class=3,                      \n",
    "    eval_metric='mlogloss',           \n",
    "    random_state=13,\n",
    "    enable_categorical=True\n",
    ")\n",
    "\n",
    "model.fit(X_train, y_train)\n"
   ]
  },
  {
   "cell_type": "code",
   "execution_count": 8,
   "metadata": {},
   "outputs": [
    {
     "data": {
      "text/plain": [
       "Index(['1', '2', '3', '4', '5', '6', '7', '8', '9', '10',\n",
       "       ...\n",
       "       '1016', '1017', '1018', '1019', '1020', '1021', '1022', '1023',\n",
       "       'subredit_topic', 'search_query'],\n",
       "      dtype='object', length=1025)"
      ]
     },
     "execution_count": 8,
     "metadata": {},
     "output_type": "execute_result"
    }
   ],
   "source": [
    "X_train.columns"
   ]
  },
  {
   "cell_type": "code",
   "execution_count": 9,
   "metadata": {},
   "outputs": [
    {
     "name": "stdout",
     "output_type": "stream",
     "text": [
      "Training Dataset:\n",
      " |    |   label_encode |\n",
      "|---:|---------------:|\n",
      "|  0 |             68 |\n",
      "|  1 |             19 |\n",
      "|  2 |              1 |\n",
      "Testing Dataset:\n",
      " |    |   label_encode |\n",
      "|---:|---------------:|\n",
      "|  0 |             34 |\n",
      "|  1 |              8 |\n",
      "|  2 |              2 |\n"
     ]
    },
    {
     "name": "stderr",
     "output_type": "stream",
     "text": [
      "/Users/andreeaserban/anaconda3/lib/python3.11/site-packages/sklearn/metrics/_classification.py:1565: UndefinedMetricWarning: Precision is ill-defined and being set to 0.0 in labels with no predicted samples. Use `zero_division` parameter to control this behavior.\n",
      "  _warn_prf(average, modifier, f\"{metric.capitalize()} is\", len(result))\n",
      "/Users/andreeaserban/anaconda3/lib/python3.11/site-packages/sklearn/metrics/_classification.py:1565: UndefinedMetricWarning: Precision is ill-defined and being set to 0.0 in labels with no predicted samples. Use `zero_division` parameter to control this behavior.\n",
      "  _warn_prf(average, modifier, f\"{metric.capitalize()} is\", len(result))\n",
      "/Users/andreeaserban/anaconda3/lib/python3.11/site-packages/sklearn/metrics/_classification.py:1565: UndefinedMetricWarning: Precision is ill-defined and being set to 0.0 in labels with no predicted samples. Use `zero_division` parameter to control this behavior.\n",
      "  _warn_prf(average, modifier, f\"{metric.capitalize()} is\", len(result))\n"
     ]
    },
    {
     "data": {
      "image/png": "[encoded data removed]",
      "text/plain": [
       "<Figure size 800x800 with 2 Axes>"
      ]
     },
     "metadata": {},
     "output_type": "display_data"
    }
   ],
   "source": [
    "# ================================\n",
    "# Evaluate the Model \n",
    "# ================================\n",
    "from sklearn.metrics import f1_score, confusion_matrix, ConfusionMatrixDisplay\n",
    "import matplotlib.pyplot as plt\n",
    "\n",
    "print(\"Training Dataset:\\n\", y_train.value_counts().to_markdown())\n",
    "print(\"Testing Dataset:\\n\", y_test.value_counts().to_markdown())\n",
    "\n",
    "y_pred = model.predict(X_test)\n",
    "\n",
    "report = classification_report(y_test, y_pred)\n",
    "f1_score = f1_score(y_test, y_pred, average='macro')\n",
    "cm = confusion_matrix(y_test, y_pred)\n",
    "disp = ConfusionMatrixDisplay(confusion_matrix=cm, display_labels=[0, 1, 2])\n",
    "\n",
    "fig, ax = plt.subplots(figsize=(8, 8))\n",
    "disp.plot(ax=ax, cmap=plt.cm.Blues)\n",
    "plt.title(\"Confusion Matrix\")\n",
    "plt.show()"
   ]
  },
  {
   "cell_type": "markdown",
   "metadata": {},
   "source": [
    "## Get outputs"
   ]
  },
  {
   "cell_type": "code",
   "execution_count": 10,
   "metadata": {},
   "outputs": [],
   "source": [
    "final_data = pd.DataFrame() \n",
    "final_data['submission_id'] = id_test['submission_id']\n",
    "final_data[['subredit_topic', 'search_query']] = X_test[['subredit_topic', 'search_query']]\n",
    "final_data[['neutral', 'negative', 'positive']] = model.predict_proba(X_test)\n",
    "final_data['class_pred']  = model.predict(X_test)\n",
    "\n"
   ]
  },
  {
   "cell_type": "code",
   "execution_count": 11,
   "metadata": {},
   "outputs": [
    {
     "data": {
      "text/html": [
       "<div>\n",
       "<style scoped>\n",
       "    .dataframe tbody tr th:only-of-type {\n",
       "        vertical-align: middle;\n",
       "    }\n",
       "\n",
       "    .dataframe tbody tr th {\n",
       "        vertical-align: top;\n",
       "    }\n",
       "\n",
       "    .dataframe thead th {\n",
       "        text-align: right;\n",
       "    }\n",
       "</style>\n",
       "<table border=\"1\" class=\"dataframe\">\n",
       "  <thead>\n",
       "    <tr style=\"text-align: right;\">\n",
       "      <th></th>\n",
       "      <th>submission_id</th>\n",
       "      <th>subreddit_topic</th>\n",
       "      <th>search_query</th>\n",
       "      <th>neutral</th>\n",
       "      <th>negative</th>\n",
       "      <th>positive</th>\n",
       "      <th>class_pred</th>\n",
       "    </tr>\n",
       "  </thead>\n",
       "  <tbody>\n",
       "    <tr>\n",
       "      <th>64</th>\n",
       "      <td>1iied6m</td>\n",
       "      <td>IRS</td>\n",
       "      <td>Turbo Tax</td>\n",
       "      <td>0.977134</td>\n",
       "      <td>0.020386</td>\n",
       "      <td>0.002480</td>\n",
       "      <td>0</td>\n",
       "    </tr>\n",
       "    <tr>\n",
       "      <th>97</th>\n",
       "      <td>1fury2p</td>\n",
       "      <td>Banking</td>\n",
       "      <td>Wells Fargo</td>\n",
       "      <td>0.429232</td>\n",
       "      <td>0.548512</td>\n",
       "      <td>0.022256</td>\n",
       "      <td>1</td>\n",
       "    </tr>\n",
       "    <tr>\n",
       "      <th>110</th>\n",
       "      <td>1gum4oc</td>\n",
       "      <td>FirstTimeHomeBuyer</td>\n",
       "      <td>Rocket Mortgage</td>\n",
       "      <td>0.997818</td>\n",
       "      <td>0.000892</td>\n",
       "      <td>0.001290</td>\n",
       "      <td>0</td>\n",
       "    </tr>\n",
       "    <tr>\n",
       "      <th>70</th>\n",
       "      <td>191leob</td>\n",
       "      <td>FirstTimeHomeBuyer</td>\n",
       "      <td>Rocket Mortgage</td>\n",
       "      <td>0.927970</td>\n",
       "      <td>0.051890</td>\n",
       "      <td>0.020140</td>\n",
       "      <td>0</td>\n",
       "    </tr>\n",
       "    <tr>\n",
       "      <th>72</th>\n",
       "      <td>19bd4r0</td>\n",
       "      <td>FirstTimeHomeBuyer</td>\n",
       "      <td>Rocket Mortgage</td>\n",
       "      <td>0.996936</td>\n",
       "      <td>0.001099</td>\n",
       "      <td>0.001965</td>\n",
       "      <td>0</td>\n",
       "    </tr>\n",
       "  </tbody>\n",
       "</table>\n",
       "</div>"
      ],
      "text/plain": [
       "    submission_id     subreddit_topic     search_query   neutral  negative  \\\n",
       "64        1iied6m                 IRS        Turbo Tax  0.977134  0.020386   \n",
       "97        1fury2p             Banking      Wells Fargo  0.429232  0.548512   \n",
       "110       1gum4oc  FirstTimeHomeBuyer  Rocket Mortgage  0.997818  0.000892   \n",
       "70        191leob  FirstTimeHomeBuyer  Rocket Mortgage  0.927970  0.051890   \n",
       "72        19bd4r0  FirstTimeHomeBuyer  Rocket Mortgage  0.996936  0.001099   \n",
       "\n",
       "     positive  class_pred  \n",
       "64   0.002480           0  \n",
       "97   0.022256           1  \n",
       "110  0.001290           0  \n",
       "70   0.020140           0  \n",
       "72   0.001965           0  "
      ]
     },
     "execution_count": 11,
     "metadata": {},
     "output_type": "execute_result"
    }
   ],
   "source": [
    "final_data = final_data.rename(columns={'subredit_topic': 'subreddit_topic'})\n",
    "final_data.head() \n"
   ]
  },
  {
   "cell_type": "code",
   "execution_count": null,
   "metadata": {},
   "outputs": [],
   "source": [
    "from access_data import authenticate_google_drive, save_google_drive_data\n",
    "\n",
    "drive = authenticate_google_drive()\n",
    "save_google_drive_data(drive=drive, \n",
    "                       dataframe =final_data, \n",
    "                       filename=\"xgboost_bge_test_predictions.csv\")"
   ]
  },
  {
   "cell_type": "markdown",
   "metadata": {},
   "source": [
    "## Score all 5,000 posts"
   ]
  },
  {
   "cell_type": "code",
   "execution_count": 24,
   "metadata": {},
   "outputs": [
    {
     "data": {
      "text/plain": [
       "Index(['submission_id', 'subreddit_topic', 'search_query', 'neutral',\n",
       "       'negative', 'positive', 'class_pred'],\n",
       "      dtype='object')"
      ]
     },
     "execution_count": 24,
     "metadata": {},
     "output_type": "execute_result"
    }
   ],
   "source": [
    "final_data.columns"
   ]
  },
  {
   "cell_type": "code",
   "execution_count": 25,
   "metadata": {},
   "outputs": [],
   "source": [
    "all_scored = data.copy(deep=True)\n",
    "\n",
    "all_scored['class_pred'] = model.predict(data[features])\n",
    "all_scored[['neutral', 'negative', 'positive']] = model.predict_proba(data[features])\n",
    "all_scored['class_pred']  = model.predict(data[features])\n",
    "\n",
    "all_scored.rename(columns={'subredit_topic': 'subreddit_topic'}, inplace=True)\n",
    "columns = ['submission_id', 'subreddit_topic', 'search_query', 'neutral',\n",
    "       'negative', 'positive', 'class_pred']\n",
    "output_score = all_scored[columns]"
   ]
  },
  {
   "cell_type": "code",
   "execution_count": 28,
   "metadata": {},
   "outputs": [
    {
     "name": "stdout",
     "output_type": "stream",
     "text": [
      "File 'xgboost_bge_all_predictions.csv' uploaded successfully to folder 1Ktcv4eaR7kH0teyGuLph4LSYWxI1qkIS!\n"
     ]
    }
   ],
   "source": [
    "\n",
    "drive = authenticate_google_drive()\n",
    "save_google_drive_data(drive=drive, \n",
    "                       dataframe =output_score, \n",
    "                       filename=\"xgboost_bge_all_predictions.csv\")"
   ]
  },
  {
   "cell_type": "code",
   "execution_count": 13,
   "metadata": {},
   "outputs": [
    {
     "data": {
      "text/html": [
       "<div>\n",
       "<style scoped>\n",
       "    .dataframe tbody tr th:only-of-type {\n",
       "        vertical-align: middle;\n",
       "    }\n",
       "\n",
       "    .dataframe tbody tr th {\n",
       "        vertical-align: top;\n",
       "    }\n",
       "\n",
       "    .dataframe thead th {\n",
       "        text-align: right;\n",
       "    }\n",
       "</style>\n",
       "<table border=\"1\" class=\"dataframe\">\n",
       "  <thead>\n",
       "    <tr style=\"text-align: right;\">\n",
       "      <th></th>\n",
       "      <th>score</th>\n",
       "    </tr>\n",
       "  </thead>\n",
       "  <tbody>\n",
       "    <tr>\n",
       "      <th>774</th>\n",
       "      <td>3.708961</td>\n",
       "    </tr>\n",
       "    <tr>\n",
       "      <th>391</th>\n",
       "      <td>3.121854</td>\n",
       "    </tr>\n",
       "    <tr>\n",
       "      <th>301</th>\n",
       "      <td>2.990773</td>\n",
       "    </tr>\n",
       "    <tr>\n",
       "      <th>173</th>\n",
       "      <td>2.530428</td>\n",
       "    </tr>\n",
       "    <tr>\n",
       "      <th>460</th>\n",
       "      <td>2.484478</td>\n",
       "    </tr>\n",
       "  </tbody>\n",
       "</table>\n",
       "</div>"
      ],
      "text/plain": [
       "        score\n",
       "774  3.708961\n",
       "391  3.121854\n",
       "301  2.990773\n",
       "173  2.530428\n",
       "460  2.484478"
      ]
     },
     "execution_count": 13,
     "metadata": {},
     "output_type": "execute_result"
    },
    {
     "data": {
      "image/png": "[encoded data removed]",
      "text/plain": [
       "<Figure size 2000x1000 with 1 Axes>"
      ]
     },
     "metadata": {},
     "output_type": "display_data"
    }
   ],
   "source": [
    "# ================================\n",
    "# Feature Importance\n",
    "# ================================\n",
    "\n",
    "# --- 1. Extract raw feature importance ---\n",
    "booster = model.get_booster()\n",
    "feature_important = booster.get_score(importance_type='gain') \n",
    "\n",
    "keys = list(feature_important.keys())\n",
    "values = list(feature_important.values())\n",
    "\n",
    "data = pd.DataFrame(data=values, index=keys, columns=[\"score\"]).sort_values(by = \"score\", ascending=False)\n",
    "data.nlargest(40, columns=\"score\").sort_values(\"score\", ascending=True).plot(kind='barh', figsize=(20, 10))\n",
    "data.head()"
   ]
  },
  {
   "cell_type": "markdown",
   "metadata": {},
   "source": [
    "## Analyze the features "
   ]
  },
  {
   "cell_type": "code",
   "execution_count": 14,
   "metadata": {},
   "outputs": [],
   "source": [
    "# import numpy as np\n",
    "# import shap \n",
    "\n",
    "# explainer = shap.TreeExplainer(model)\n",
    "# shap_values = explainer.shap_values(X_test)\n",
    "\n",
    "# # Get mean absolute SHAP values per feature\n",
    "# shap_combined = np.sum(np.abs(shap_values), axis=0)  # Shape: (num_samples, num_features)\n",
    "\n",
    "# # Get mean absolute SHAP values per feature\n",
    "# mean_shap_values = shap_combined.mean(0)\n",
    "\n",
    "# # Select top 20 features\n",
    "# top_n = 20\n",
    "# top_features = np.argsort(mean_shap_values)[-top_n:]\n",
    "\n",
    "# # Select top 20 features\n",
    "# top_n = 20\n",
    "# top_features = np.argsort(mean_shap_values)[-top_n:]\n",
    "\n",
    "# # Filter data\n",
    "# X_top = X_test.iloc[:, top_features]\n",
    "\n",
    "# # # Plot only top features\n",
    "# shap.summary_plot(shap_values[:, top_features], X_top)\n"
   ]
  },
  {
   "cell_type": "code",
   "execution_count": null,
   "metadata": {},
   "outputs": [],
   "source": []
  }
 ],
 "metadata": {
  "kernelspec": {
   "display_name": "venv",
   "language": "python",
   "name": "python3"
  },
  "language_info": {
   "codemirror_mode": {
    "name": "ipython",
    "version": 3
   },
   "file_extension": ".py",
   "mimetype": "text/x-python",
   "name": "python",
   "nbconvert_exporter": "python",
   "pygments_lexer": "ipython3",
   "version": "3.13.2"
  }
 },
 "nbformat": 4,
 "nbformat_minor": 2
}
