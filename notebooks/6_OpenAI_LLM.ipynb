{
 "cells": [
  {
   "cell_type": "markdown",
   "id": "ebca1433",
   "metadata": {},
   "source": [
    "## Open AI mdoel"
   ]
  },
  {
   "cell_type": "code",
   "execution_count": 22,
   "id": "bba5e3ad-1849-45fe-8a84-a2acc7909c57",
   "metadata": {},
   "outputs": [],
   "source": [
    "# %%capture\n",
    "# pip install -r ../../requirements.txt"
   ]
  },
  {
   "cell_type": "code",
   "execution_count": 23,
   "id": "d995d52f-df78-44bb-8f6a-44958e285559",
   "metadata": {},
   "outputs": [],
   "source": [
    "# pip install openai==0.28"
   ]
  },
  {
   "cell_type": "code",
   "execution_count": 24,
   "id": "03381aff-e604-4adb-b372-72def1d8ab49",
   "metadata": {},
   "outputs": [
    {
     "name": "stdout",
     "output_type": "stream",
     "text": [
      "Successfully loaded 'combined_labeled_data.csv' into a DataFrame!\n",
      "Successfully loaded 'xgboost_models_test.csv' into a DataFrame!\n"
     ]
    }
   ],
   "source": [
    "import sys\n",
    "import pandas as pd\n",
    "import openai\n",
    "import os\n",
    "pd.set_option('display.max_colwidth', None) \n",
    "\n",
    "\n",
    "# set this on the path so that we can reference the commong data locations\n",
    "sys.path.append(\"../scripts/\")\n",
    "\n",
    "from access_data import authenticate_google_drive, grab_google_drive_folder_data\n",
    "\n",
    "drive = authenticate_google_drive()\n",
    "df_labeled_full = grab_google_drive_folder_data(drive=drive, filename=\"combined_labeled_data.csv\")\n",
    "df_test_xgboost = grab_google_drive_folder_data(drive=drive, filename=\"xgboost_models_test.csv\")"
   ]
  },
  {
   "cell_type": "code",
   "execution_count": 25,
   "id": "8ece63c3",
   "metadata": {},
   "outputs": [],
   "source": [
    "# df_labeled_full.head()"
   ]
  },
  {
   "cell_type": "code",
   "execution_count": 26,
   "id": "805738e2",
   "metadata": {},
   "outputs": [],
   "source": [
    "df_test_xgboost.head() \n",
    "test_df = pd.merge(df_labeled_full, df_test_xgboost, on=['submission_id', 'search_query'], how='inner')\n"
   ]
  },
  {
   "cell_type": "code",
   "execution_count": 27,
   "id": "f48c4860",
   "metadata": {},
   "outputs": [
    {
     "data": {
      "text/plain": [
       "Index(['submission_id', 'subreddit_topic', 'search_query', 'combine_text',\n",
       "       'url', 'label', 'reviewer', 'label_encode',\n",
       "       'multi_qa_mpnet_base_dot_v1_predicted_label',\n",
       "       'BAAI_bge_small_en_v1.5_predicted_label',\n",
       "       'all_MiniLM_L6_v2_predicted_label'],\n",
       "      dtype='object')"
      ]
     },
     "execution_count": 27,
     "metadata": {},
     "output_type": "execute_result"
    }
   ],
   "source": [
    "test_df.columns "
   ]
  },
  {
   "cell_type": "code",
   "execution_count": 28,
   "id": "2454c0e9-7acb-4d67-a4da-786acc2a98cb",
   "metadata": {},
   "outputs": [],
   "source": [
    "import json\n",
    "\n",
    "with open('credentials/openai_credentials.json') as f:\n",
    "    config = json.load(f)\n",
    "\n",
    "api_key = config[\"OPENAI_API_KEY\"]\n",
    "\n",
    "# Set your OpenAI API key\n",
    "openai.api_key = api_key"
   ]
  },
  {
   "cell_type": "code",
   "execution_count": 29,
   "id": "f8ba27b2-e494-418a-a875-813d1c31ae95",
   "metadata": {},
   "outputs": [],
   "source": [
    "import pandas as pd\n",
    "import time\n",
    "\n",
    "# Define the sentiment classification function using chat-based model\n",
    "def classify_sentiment(post, brand):\n",
    "    # prompt = f\"Classify the sentiment of this reddit post. It's possible many of the posts are just seeking information about the brand. Label these information-seekers as 'neutral'. The other two possibilities are 'positive' or 'negative.' Only include the single word negative, neutral, or positive in your response: '{post}'\"\n",
    "    prompt = f\"\"\"Classify the sentiment of this Reddit post regarding the brand: {brand}.  \n",
    "        - If the post is primarily seeking information about the brand without expressing a clear positive or negative opinion, label it as \"Neutral.\"  \n",
    "        - If the post expresses a favorable opinion about the brand, label it as \"Positive.\"  \n",
    "        - If the post expresses an unfavorable opinion about the brand, label it as \"Negative.\"  \n",
    "\n",
    "        Your response must be exactly one of the following words: \"Negative\", \"Neutral\", or \"Positive\" (without quotes and without any extra words or punctuation).  \n",
    "\n",
    "        Reddit post: \"{post}\"\n",
    "        \"\"\"\n",
    "    try:\n",
    "        # Use the correct method for chat-based models\n",
    "        response = openai.ChatCompletion.create(  \n",
    "            model=\"gpt-3.5-turbo\",  # Specify the chat model (like gpt-3.5-turbo). Can be expensive if you change it.\n",
    "            messages=[\n",
    "                {\"role\": \"system\", \"content\": \"You are a helpful assistant.\"},\n",
    "                {\"role\": \"user\", \"content\": prompt}\n",
    "            ],\n",
    "            max_tokens=10,  # Keep the output short (only the sentiment label)\n",
    "            temperature=0.0  # Temperature set to 0 for deterministic output\n",
    "        )\n",
    "        time.sleep(0.025) \n",
    "\n",
    "        # Extract the sentiment from the response\n",
    "        sentiment = response['choices'][0]['message']['content'].strip()\n",
    "        return sentiment\n",
    "    \n",
    "    except Exception as e:\n",
    "        print(f\"Error classifying sentiment: {e}\")\n",
    "        return None  # Return None in case of error\n",
    "\n",
    "################\n",
    "# This costs $ - be careful!!\n",
    "# Cost $0.64 to label all ~5000 reddit posts \n",
    "\n",
    "# Apply the function to the 'text' column to classify sentiment\n",
    "test_df['open_ai_sentiment'] = test_df[['combine_text', 'search_query']].apply(lambda x: classify_sentiment(x['combine_text'], x['search_query']), axis=1)\n",
    "################"
   ]
  },
  {
   "cell_type": "code",
   "execution_count": 30,
   "id": "e8d9a132-07e6-41ec-ac89-28067394ea8e",
   "metadata": {},
   "outputs": [],
   "source": [
    "# Store AI response as lower case\n",
    "test_df['open_ai_sentiment'] = test_df['open_ai_sentiment'].str.title()"
   ]
  },
  {
   "cell_type": "code",
   "execution_count": 31,
   "id": "280e28bd",
   "metadata": {},
   "outputs": [
    {
     "data": {
      "text/plain": [
       "Neutral     22\n",
       "Negative    10\n",
       "Name: open_ai_sentiment, dtype: int64"
      ]
     },
     "execution_count": 31,
     "metadata": {},
     "output_type": "execute_result"
    }
   ],
   "source": [
    "test_df['open_ai_sentiment'].value_counts() "
   ]
  },
  {
   "cell_type": "markdown",
   "id": "5d6b5c2c",
   "metadata": {},
   "source": [
    "## Evaluate dataset"
   ]
  },
  {
   "cell_type": "code",
   "execution_count": 32,
   "id": "ba42d560",
   "metadata": {},
   "outputs": [
    {
     "data": {
      "text/html": [
       "<div>\n",
       "<style scoped>\n",
       "    .dataframe tbody tr th:only-of-type {\n",
       "        vertical-align: middle;\n",
       "    }\n",
       "\n",
       "    .dataframe tbody tr th {\n",
       "        vertical-align: top;\n",
       "    }\n",
       "\n",
       "    .dataframe thead th {\n",
       "        text-align: right;\n",
       "    }\n",
       "</style>\n",
       "<table border=\"1\" class=\"dataframe\">\n",
       "  <thead>\n",
       "    <tr style=\"text-align: right;\">\n",
       "      <th></th>\n",
       "      <th>open_ai_prediction</th>\n",
       "      <th>actual</th>\n",
       "      <th>count</th>\n",
       "    </tr>\n",
       "  </thead>\n",
       "  <tbody>\n",
       "    <tr>\n",
       "      <th>0</th>\n",
       "      <td>Neutral</td>\n",
       "      <td>Neutral</td>\n",
       "      <td>21</td>\n",
       "    </tr>\n",
       "    <tr>\n",
       "      <th>1</th>\n",
       "      <td>Negative</td>\n",
       "      <td>Negative</td>\n",
       "      <td>5</td>\n",
       "    </tr>\n",
       "    <tr>\n",
       "      <th>2</th>\n",
       "      <td>Negative</td>\n",
       "      <td>Neutral</td>\n",
       "      <td>5</td>\n",
       "    </tr>\n",
       "    <tr>\n",
       "      <th>3</th>\n",
       "      <td>Neutral</td>\n",
       "      <td>Positive</td>\n",
       "      <td>1</td>\n",
       "    </tr>\n",
       "  </tbody>\n",
       "</table>\n",
       "</div>"
      ],
      "text/plain": [
       "  open_ai_prediction    actual  count\n",
       "0            Neutral   Neutral     21\n",
       "1           Negative  Negative      5\n",
       "2           Negative   Neutral      5\n",
       "3            Neutral  Positive      1"
      ]
     },
     "execution_count": 32,
     "metadata": {},
     "output_type": "execute_result"
    }
   ],
   "source": [
    "open_ai_result = pd.DataFrame(test_df[['open_ai_sentiment', 'label']].value_counts()).reset_index().rename(columns={0: 'count', 'open_ai_sentiment': 'open_ai_prediction', 'label': 'actual'})\n",
    "open_ai_result.head() \n"
   ]
  },
  {
   "cell_type": "code",
   "execution_count": 33,
   "id": "df1979ea",
   "metadata": {},
   "outputs": [
    {
     "name": "stdout",
     "output_type": "stream",
     "text": [
      "\n",
      "F1-score for each class:\n",
      "Neutral: 0.8750\n",
      "Negative: 0.6667\n",
      "Positive: 0.0000\n",
      "\n",
      "Macro F1-score: 0.5139\n",
      "\n",
      "Classification Report:\n",
      "              precision    recall  f1-score   support\n",
      "\n",
      "     Neutral       0.95      0.81      0.88        26\n",
      "    Negative       0.50      1.00      0.67         5\n",
      "    Positive       0.00      0.00      0.00         1\n",
      "\n",
      "    accuracy                           0.81        32\n",
      "   macro avg       0.48      0.60      0.51        32\n",
      "weighted avg       0.85      0.81      0.82        32\n",
      "\n"
     ]
    },
    {
     "name": "stderr",
     "output_type": "stream",
     "text": [
      "/opt/conda/lib/python3.11/site-packages/sklearn/metrics/_classification.py:1531: UndefinedMetricWarning: Precision is ill-defined and being set to 0.0 in labels with no predicted samples. Use `zero_division` parameter to control this behavior.\n",
      "  _warn_prf(average, modifier, f\"{metric.capitalize()} is\", len(result))\n",
      "/opt/conda/lib/python3.11/site-packages/sklearn/metrics/_classification.py:1531: UndefinedMetricWarning: Precision is ill-defined and being set to 0.0 in labels with no predicted samples. Use `zero_division` parameter to control this behavior.\n",
      "  _warn_prf(average, modifier, f\"{metric.capitalize()} is\", len(result))\n",
      "/opt/conda/lib/python3.11/site-packages/sklearn/metrics/_classification.py:1531: UndefinedMetricWarning: Precision is ill-defined and being set to 0.0 in labels with no predicted samples. Use `zero_division` parameter to control this behavior.\n",
      "  _warn_prf(average, modifier, f\"{metric.capitalize()} is\", len(result))\n"
     ]
    },
    {
     "data": {
      "image/png": "[encoded data removed]",
      "text/plain": [
       "<Figure size 600x400 with 1 Axes>"
      ]
     },
     "metadata": {},
     "output_type": "display_data"
    }
   ],
   "source": [
    "\n",
    "import pandas as pd\n",
    "import seaborn as sns\n",
    "import matplotlib.pyplot as plt\n",
    "from sklearn.metrics import confusion_matrix\n",
    "from sklearn.metrics import f1_score, classification_report\n",
    "\n",
    "# Extract unique classes dynamically\n",
    "y_true = test_df['label']\n",
    "y_pred = test_df['open_ai_sentiment']\n",
    "predicted_classes = test_df['label'].unique()\n",
    "\n",
    "# Calculate per-class F1 scores (without specifying labels explicitly)\n",
    "f1 = f1_score(y_true, y_pred, average=None, labels=predicted_classes)  # Per-class F1\n",
    "macro_f1 = f1_score(y_true, y_pred, average=\"macro\")  # Macro F1 (since it's common for imbalanced datasets)\n",
    "\n",
    "# Print results\n",
    "print(\"\\nF1-score for each class:\")\n",
    "for i, class_label in enumerate(predicted_classes):\n",
    "    print(f\"{class_label}: {f1[i]:.4f}\")\n",
    "\n",
    "print(f\"\\nMacro F1-score: {macro_f1:.4f}\")\n",
    "\n",
    "# Print full classification report\n",
    "print(\"\\nClassification Report:\")\n",
    "print(classification_report(y_true, y_pred, labels=predicted_classes))\n",
    "\n",
    "y_pred = test_df['open_ai_sentiment']\n",
    "y_true = test_df['label']\n",
    "\n",
    "cm = confusion_matrix(y_true, y_pred, labels=[\"Neutral\", \"Negative\", \"Positive\"])\n",
    "\n",
    "# Convert confusion matrix to a DataFrame for better readability\n",
    "cm_df = pd.DataFrame(cm, index=[\"Neutral\", \"Negative\", \"Positive\"], columns=[\"Neutral\", \"Negative\", \"Positive\"])\n",
    "\n",
    "# Print confusion matrix\n",
    "# print(\"Confusion Matrix:\")\n",
    "# print(cm_df)\n",
    "\n",
    "# Plot confusion matrix\n",
    "plt.figure(figsize=(6, 4))\n",
    "sns.heatmap(cm_df, annot=True, fmt=\"g\", cmap=\"Blues\", cbar=False)\n",
    "\n",
    "# # Labels and title\n",
    "plt.xlabel(\"Predicted Label\")\n",
    "plt.ylabel(\"True Label\")\n",
    "plt.title(\"Confusion Matrix\")\n",
    "\n",
    "# Show the plot\n",
    "plt.show()"
   ]
  },
  {
   "cell_type": "markdown",
   "id": "69a70c5e",
   "metadata": {},
   "source": [
    "## Evaluate XGBoost and Open AI approach \n"
   ]
  },
  {
   "cell_type": "code",
   "execution_count": 34,
   "id": "49f8c449",
   "metadata": {},
   "outputs": [],
   "source": [
    "pred_columns = [ \n",
    "       'multi_qa_mpnet_base_dot_v1_predicted_label',\n",
    "       'BAAI_bge_small_en_v1.5_predicted_label',\n",
    "       'all_MiniLM_L6_v2_predicted_label', 'open_ai_sentiment']"
   ]
  },
  {
   "cell_type": "code",
   "execution_count": 35,
   "id": "bcdc104e",
   "metadata": {},
   "outputs": [
    {
     "data": {
      "text/html": [
       "<div>\n",
       "<style scoped>\n",
       "    .dataframe tbody tr th:only-of-type {\n",
       "        vertical-align: middle;\n",
       "    }\n",
       "\n",
       "    .dataframe tbody tr th {\n",
       "        vertical-align: top;\n",
       "    }\n",
       "\n",
       "    .dataframe thead th {\n",
       "        text-align: right;\n",
       "    }\n",
       "</style>\n",
       "<table border=\"1\" class=\"dataframe\">\n",
       "  <thead>\n",
       "    <tr style=\"text-align: right;\">\n",
       "      <th></th>\n",
       "      <th>multi_qa_mpnet_base_dot_v1_predicted_label</th>\n",
       "      <th>BAAI_bge_small_en_v1.5_predicted_label</th>\n",
       "      <th>all_MiniLM_L6_v2_predicted_label</th>\n",
       "      <th>open_ai_sentiment</th>\n",
       "    </tr>\n",
       "  </thead>\n",
       "  <tbody>\n",
       "    <tr>\n",
       "      <th>0</th>\n",
       "      <td>Neutral</td>\n",
       "      <td>Neutral</td>\n",
       "      <td>Neutral</td>\n",
       "      <td>Negative</td>\n",
       "    </tr>\n",
       "    <tr>\n",
       "      <th>1</th>\n",
       "      <td>Neutral</td>\n",
       "      <td>Neutral</td>\n",
       "      <td>Neutral</td>\n",
       "      <td>Neutral</td>\n",
       "    </tr>\n",
       "    <tr>\n",
       "      <th>2</th>\n",
       "      <td>Neutral</td>\n",
       "      <td>Neutral</td>\n",
       "      <td>Neutral</td>\n",
       "      <td>Negative</td>\n",
       "    </tr>\n",
       "    <tr>\n",
       "      <th>3</th>\n",
       "      <td>Neutral</td>\n",
       "      <td>Neutral</td>\n",
       "      <td>Neutral</td>\n",
       "      <td>Neutral</td>\n",
       "    </tr>\n",
       "    <tr>\n",
       "      <th>4</th>\n",
       "      <td>Neutral</td>\n",
       "      <td>Neutral</td>\n",
       "      <td>Neutral</td>\n",
       "      <td>Neutral</td>\n",
       "    </tr>\n",
       "  </tbody>\n",
       "</table>\n",
       "</div>"
      ],
      "text/plain": [
       "  multi_qa_mpnet_base_dot_v1_predicted_label  \\\n",
       "0                                    Neutral   \n",
       "1                                    Neutral   \n",
       "2                                    Neutral   \n",
       "3                                    Neutral   \n",
       "4                                    Neutral   \n",
       "\n",
       "  BAAI_bge_small_en_v1.5_predicted_label all_MiniLM_L6_v2_predicted_label  \\\n",
       "0                                Neutral                          Neutral   \n",
       "1                                Neutral                          Neutral   \n",
       "2                                Neutral                          Neutral   \n",
       "3                                Neutral                          Neutral   \n",
       "4                                Neutral                          Neutral   \n",
       "\n",
       "  open_ai_sentiment  \n",
       "0          Negative  \n",
       "1           Neutral  \n",
       "2          Negative  \n",
       "3           Neutral  \n",
       "4           Neutral  "
      ]
     },
     "execution_count": 35,
     "metadata": {},
     "output_type": "execute_result"
    }
   ],
   "source": [
    "test_df[pred_columns].head() \n"
   ]
  },
  {
   "cell_type": "code",
   "execution_count": 36,
   "id": "c7cddec1",
   "metadata": {},
   "outputs": [],
   "source": [
    "result_dict = {\"Model\": [], \"F1 Macro Score\": []}\n",
    "\n",
    "for pred_col in pred_columns:\n",
    "    f1 = f1_score(test_df[\"label_encode\"], test_df[pred_col], average=\"macro\")\n",
    "    col_name = pred_col.replace(\"_predicted_label\", \"\")  # Remove suffix for cleaner name\n",
    "    \n",
    "    # Append results\n",
    "    result_dict[\"Model\"].append(col_name)\n",
    "    result_dict[\"F1 Macro Score\"].append(f1)\n",
    "\n",
    "# Convert to DataFrame\n",
    "f1_results_df = pd.DataFrame(result_dict)\n"
   ]
  },
  {
   "cell_type": "code",
   "execution_count": 37,
   "id": "e3b7160e",
   "metadata": {},
   "outputs": [
    {
     "name": "stdout",
     "output_type": "stream",
     "text": [
      "|    | Model                      |   F1 Macro Score |\n",
      "|---:|:---------------------------|-----------------:|\n",
      "|  0 | open_ai_sentiment          |         0.513889 |\n",
      "|  1 | multi_qa_mpnet_base_dot_v1 |         0.386364 |\n",
      "|  2 | BAAI_bge_small_en_v1.5     |         0.374242 |\n",
      "|  3 | all_MiniLM_L6_v2           |         0.298851 |\n"
     ]
    }
   ],
   "source": [
    "print(f1_results_df.sort_values(by='F1 Macro Score', ascending=False).reset_index(drop=True).to_markdown())"
   ]
  },
  {
   "cell_type": "markdown",
   "id": "cf3a1d97",
   "metadata": {},
   "source": [
    "# Based on results, score all leads with the Open AI "
   ]
  },
  {
   "cell_type": "code",
   "execution_count": 38,
   "id": "cb6a57a0",
   "metadata": {},
   "outputs": [
    {
     "name": "stdout",
     "output_type": "stream",
     "text": [
      "Successfully loaded 'reddit_filtered_data.csv' into a DataFrame!\n"
     ]
    }
   ],
   "source": [
    "df_filtered = grab_google_drive_folder_data(drive=drive, filename=\"reddit_filtered_data.csv\")"
   ]
  },
  {
   "cell_type": "code",
   "execution_count": 39,
   "id": "daa28391",
   "metadata": {},
   "outputs": [],
   "source": [
    "df_filtered['open_ai_sentiment'] = df_filtered[['combine_text', 'search_query']].apply(lambda x: classify_sentiment(x['combine_text'], x['search_query']), axis=1)\n"
   ]
  },
  {
   "cell_type": "code",
   "execution_count": 40,
   "id": "f32d5757",
   "metadata": {},
   "outputs": [
    {
     "data": {
      "text/plain": [
       "Neutral     2353\n",
       "Negative    1516\n",
       "Positive     292\n",
       "Name: open_ai_sentiment, dtype: int64"
      ]
     },
     "execution_count": 40,
     "metadata": {},
     "output_type": "execute_result"
    }
   ],
   "source": [
    "df_filtered['open_ai_sentiment'].value_counts() "
   ]
  },
  {
   "cell_type": "code",
   "execution_count": 41,
   "id": "4d00f41b",
   "metadata": {},
   "outputs": [
    {
     "name": "stdout",
     "output_type": "stream",
     "text": [
      "File 'analyze_data.csv' uploaded successfully to folder 1Ktcv4eaR7kH0teyGuLph4LSYWxI1qkIS!\n"
     ]
    }
   ],
   "source": [
    "from access_data import authenticate_google_drive, save_google_drive_data\n",
    "\n",
    "drive = authenticate_google_drive()\n",
    "save_google_drive_data(drive=drive, \n",
    "                       dataframe=df_filtered, \n",
    "                       filename=\"analyze_data.csv\")"
   ]
  },
  {
   "cell_type": "code",
   "execution_count": null,
   "id": "87aeeede",
   "metadata": {},
   "outputs": [],
   "source": []
  }
 ],
 "metadata": {
  "kernelspec": {
   "display_name": "Python 3 (ipykernel)",
   "language": "python",
   "name": "python3"
  },
  "language_info": {
   "codemirror_mode": {
    "name": "ipython",
    "version": 3
   },
   "file_extension": ".py",
   "mimetype": "text/x-python",
   "name": "python",
   "nbconvert_exporter": "python",
   "pygments_lexer": "ipython3",
   "version": "3.11.10"
  }
 },
 "nbformat": 4,
 "nbformat_minor": 5
}
